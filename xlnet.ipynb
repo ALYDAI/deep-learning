{
  "nbformat": 4,
  "nbformat_minor": 0,
  "metadata": {
    "accelerator": "GPU",
    "colab": {
      "name": "xlnet.ipynb",
      "provenance": [],
      "collapsed_sections": []
    },
    "kernelspec": {
      "display_name": "Python 3",
      "name": "python3"
    },
    "widgets": {
      "application/vnd.jupyter.widget-state+json": {
        "bdf7119c31544dea8e2879c629b8231b": {
          "model_module": "@jupyter-widgets/controls",
          "model_name": "HBoxModel",
          "state": {
            "_view_name": "HBoxView",
            "_dom_classes": [],
            "_model_name": "HBoxModel",
            "_view_module": "@jupyter-widgets/controls",
            "_model_module_version": "1.5.0",
            "_view_count": null,
            "_view_module_version": "1.5.0",
            "box_style": "",
            "layout": "IPY_MODEL_a6f6c6bf9f7b41c18f3df23636b25c65",
            "_model_module": "@jupyter-widgets/controls",
            "children": [
              "IPY_MODEL_93322ec4b7f74ca8b09c5793124ebd19",
              "IPY_MODEL_354bdc89aacd4a7abc30cdfb64f0af08"
            ]
          }
        },
        "a6f6c6bf9f7b41c18f3df23636b25c65": {
          "model_module": "@jupyter-widgets/base",
          "model_name": "LayoutModel",
          "state": {
            "_view_name": "LayoutView",
            "grid_template_rows": null,
            "right": null,
            "justify_content": null,
            "_view_module": "@jupyter-widgets/base",
            "overflow": null,
            "_model_module_version": "1.2.0",
            "_view_count": null,
            "flex_flow": null,
            "width": null,
            "min_width": null,
            "border": null,
            "align_items": null,
            "bottom": null,
            "_model_module": "@jupyter-widgets/base",
            "top": null,
            "grid_column": null,
            "overflow_y": null,
            "overflow_x": null,
            "grid_auto_flow": null,
            "grid_area": null,
            "grid_template_columns": null,
            "flex": null,
            "_model_name": "LayoutModel",
            "justify_items": null,
            "grid_row": null,
            "max_height": null,
            "align_content": null,
            "visibility": null,
            "align_self": null,
            "height": null,
            "min_height": null,
            "padding": null,
            "grid_auto_rows": null,
            "grid_gap": null,
            "max_width": null,
            "order": null,
            "_view_module_version": "1.2.0",
            "grid_template_areas": null,
            "object_position": null,
            "object_fit": null,
            "grid_auto_columns": null,
            "margin": null,
            "display": null,
            "left": null
          }
        },
        "93322ec4b7f74ca8b09c5793124ebd19": {
          "model_module": "@jupyter-widgets/controls",
          "model_name": "FloatProgressModel",
          "state": {
            "_view_name": "ProgressView",
            "style": "IPY_MODEL_8ac054a826624660a16ee3d927f4226e",
            "_dom_classes": [],
            "description": "Downloading: 100%",
            "_model_name": "FloatProgressModel",
            "bar_style": "success",
            "max": 798011,
            "_view_module": "@jupyter-widgets/controls",
            "_model_module_version": "1.5.0",
            "value": 798011,
            "_view_count": null,
            "_view_module_version": "1.5.0",
            "orientation": "horizontal",
            "min": 0,
            "description_tooltip": null,
            "_model_module": "@jupyter-widgets/controls",
            "layout": "IPY_MODEL_f6881aedfd7045a1a5cc62dc82c13922"
          }
        },
        "354bdc89aacd4a7abc30cdfb64f0af08": {
          "model_module": "@jupyter-widgets/controls",
          "model_name": "HTMLModel",
          "state": {
            "_view_name": "HTMLView",
            "style": "IPY_MODEL_b55d3315df7b41ee8e55b3effa2bacaa",
            "_dom_classes": [],
            "description": "",
            "_model_name": "HTMLModel",
            "placeholder": "​",
            "_view_module": "@jupyter-widgets/controls",
            "_model_module_version": "1.5.0",
            "value": " 798k/798k [00:27&lt;00:00, 29.4kB/s]",
            "_view_count": null,
            "_view_module_version": "1.5.0",
            "description_tooltip": null,
            "_model_module": "@jupyter-widgets/controls",
            "layout": "IPY_MODEL_0b161842472d40b0995d051ea57d58c3"
          }
        },
        "8ac054a826624660a16ee3d927f4226e": {
          "model_module": "@jupyter-widgets/controls",
          "model_name": "ProgressStyleModel",
          "state": {
            "_view_name": "StyleView",
            "_model_name": "ProgressStyleModel",
            "description_width": "initial",
            "_view_module": "@jupyter-widgets/base",
            "_model_module_version": "1.5.0",
            "_view_count": null,
            "_view_module_version": "1.2.0",
            "bar_color": null,
            "_model_module": "@jupyter-widgets/controls"
          }
        },
        "f6881aedfd7045a1a5cc62dc82c13922": {
          "model_module": "@jupyter-widgets/base",
          "model_name": "LayoutModel",
          "state": {
            "_view_name": "LayoutView",
            "grid_template_rows": null,
            "right": null,
            "justify_content": null,
            "_view_module": "@jupyter-widgets/base",
            "overflow": null,
            "_model_module_version": "1.2.0",
            "_view_count": null,
            "flex_flow": null,
            "width": null,
            "min_width": null,
            "border": null,
            "align_items": null,
            "bottom": null,
            "_model_module": "@jupyter-widgets/base",
            "top": null,
            "grid_column": null,
            "overflow_y": null,
            "overflow_x": null,
            "grid_auto_flow": null,
            "grid_area": null,
            "grid_template_columns": null,
            "flex": null,
            "_model_name": "LayoutModel",
            "justify_items": null,
            "grid_row": null,
            "max_height": null,
            "align_content": null,
            "visibility": null,
            "align_self": null,
            "height": null,
            "min_height": null,
            "padding": null,
            "grid_auto_rows": null,
            "grid_gap": null,
            "max_width": null,
            "order": null,
            "_view_module_version": "1.2.0",
            "grid_template_areas": null,
            "object_position": null,
            "object_fit": null,
            "grid_auto_columns": null,
            "margin": null,
            "display": null,
            "left": null
          }
        },
        "b55d3315df7b41ee8e55b3effa2bacaa": {
          "model_module": "@jupyter-widgets/controls",
          "model_name": "DescriptionStyleModel",
          "state": {
            "_view_name": "StyleView",
            "_model_name": "DescriptionStyleModel",
            "description_width": "",
            "_view_module": "@jupyter-widgets/base",
            "_model_module_version": "1.5.0",
            "_view_count": null,
            "_view_module_version": "1.2.0",
            "_model_module": "@jupyter-widgets/controls"
          }
        },
        "0b161842472d40b0995d051ea57d58c3": {
          "model_module": "@jupyter-widgets/base",
          "model_name": "LayoutModel",
          "state": {
            "_view_name": "LayoutView",
            "grid_template_rows": null,
            "right": null,
            "justify_content": null,
            "_view_module": "@jupyter-widgets/base",
            "overflow": null,
            "_model_module_version": "1.2.0",
            "_view_count": null,
            "flex_flow": null,
            "width": null,
            "min_width": null,
            "border": null,
            "align_items": null,
            "bottom": null,
            "_model_module": "@jupyter-widgets/base",
            "top": null,
            "grid_column": null,
            "overflow_y": null,
            "overflow_x": null,
            "grid_auto_flow": null,
            "grid_area": null,
            "grid_template_columns": null,
            "flex": null,
            "_model_name": "LayoutModel",
            "justify_items": null,
            "grid_row": null,
            "max_height": null,
            "align_content": null,
            "visibility": null,
            "align_self": null,
            "height": null,
            "min_height": null,
            "padding": null,
            "grid_auto_rows": null,
            "grid_gap": null,
            "max_width": null,
            "order": null,
            "_view_module_version": "1.2.0",
            "grid_template_areas": null,
            "object_position": null,
            "object_fit": null,
            "grid_auto_columns": null,
            "margin": null,
            "display": null,
            "left": null
          }
        },
        "30e0f23ac2f3417b8e2de28156120fcd": {
          "model_module": "@jupyter-widgets/controls",
          "model_name": "HBoxModel",
          "state": {
            "_view_name": "HBoxView",
            "_dom_classes": [],
            "_model_name": "HBoxModel",
            "_view_module": "@jupyter-widgets/controls",
            "_model_module_version": "1.5.0",
            "_view_count": null,
            "_view_module_version": "1.5.0",
            "box_style": "",
            "layout": "IPY_MODEL_ef2277d3f98a4e78a7dd38919db627ae",
            "_model_module": "@jupyter-widgets/controls",
            "children": [
              "IPY_MODEL_4124b488ee974d0db67534accf2474d3",
              "IPY_MODEL_ca3e705cb57245dba287c11c9b8863f1"
            ]
          }
        },
        "ef2277d3f98a4e78a7dd38919db627ae": {
          "model_module": "@jupyter-widgets/base",
          "model_name": "LayoutModel",
          "state": {
            "_view_name": "LayoutView",
            "grid_template_rows": null,
            "right": null,
            "justify_content": null,
            "_view_module": "@jupyter-widgets/base",
            "overflow": null,
            "_model_module_version": "1.2.0",
            "_view_count": null,
            "flex_flow": null,
            "width": null,
            "min_width": null,
            "border": null,
            "align_items": null,
            "bottom": null,
            "_model_module": "@jupyter-widgets/base",
            "top": null,
            "grid_column": null,
            "overflow_y": null,
            "overflow_x": null,
            "grid_auto_flow": null,
            "grid_area": null,
            "grid_template_columns": null,
            "flex": null,
            "_model_name": "LayoutModel",
            "justify_items": null,
            "grid_row": null,
            "max_height": null,
            "align_content": null,
            "visibility": null,
            "align_self": null,
            "height": null,
            "min_height": null,
            "padding": null,
            "grid_auto_rows": null,
            "grid_gap": null,
            "max_width": null,
            "order": null,
            "_view_module_version": "1.2.0",
            "grid_template_areas": null,
            "object_position": null,
            "object_fit": null,
            "grid_auto_columns": null,
            "margin": null,
            "display": null,
            "left": null
          }
        },
        "4124b488ee974d0db67534accf2474d3": {
          "model_module": "@jupyter-widgets/controls",
          "model_name": "FloatProgressModel",
          "state": {
            "_view_name": "ProgressView",
            "style": "IPY_MODEL_75014dee0a5e4a179ea47c869e39fee1",
            "_dom_classes": [],
            "description": "Downloading: 100%",
            "_model_name": "FloatProgressModel",
            "bar_style": "success",
            "max": 760,
            "_view_module": "@jupyter-widgets/controls",
            "_model_module_version": "1.5.0",
            "value": 760,
            "_view_count": null,
            "_view_module_version": "1.5.0",
            "orientation": "horizontal",
            "min": 0,
            "description_tooltip": null,
            "_model_module": "@jupyter-widgets/controls",
            "layout": "IPY_MODEL_ee1b9798cf7b40a4a0c3767b4fc1cc04"
          }
        },
        "ca3e705cb57245dba287c11c9b8863f1": {
          "model_module": "@jupyter-widgets/controls",
          "model_name": "HTMLModel",
          "state": {
            "_view_name": "HTMLView",
            "style": "IPY_MODEL_7dda3acacafc4b57bedf8ae6ad9c8073",
            "_dom_classes": [],
            "description": "",
            "_model_name": "HTMLModel",
            "placeholder": "​",
            "_view_module": "@jupyter-widgets/controls",
            "_model_module_version": "1.5.0",
            "value": " 760/760 [00:08&lt;00:00, 87.3B/s]",
            "_view_count": null,
            "_view_module_version": "1.5.0",
            "description_tooltip": null,
            "_model_module": "@jupyter-widgets/controls",
            "layout": "IPY_MODEL_86189b76211a4ea0946cbf5af59fb9fa"
          }
        },
        "75014dee0a5e4a179ea47c869e39fee1": {
          "model_module": "@jupyter-widgets/controls",
          "model_name": "ProgressStyleModel",
          "state": {
            "_view_name": "StyleView",
            "_model_name": "ProgressStyleModel",
            "description_width": "initial",
            "_view_module": "@jupyter-widgets/base",
            "_model_module_version": "1.5.0",
            "_view_count": null,
            "_view_module_version": "1.2.0",
            "bar_color": null,
            "_model_module": "@jupyter-widgets/controls"
          }
        },
        "ee1b9798cf7b40a4a0c3767b4fc1cc04": {
          "model_module": "@jupyter-widgets/base",
          "model_name": "LayoutModel",
          "state": {
            "_view_name": "LayoutView",
            "grid_template_rows": null,
            "right": null,
            "justify_content": null,
            "_view_module": "@jupyter-widgets/base",
            "overflow": null,
            "_model_module_version": "1.2.0",
            "_view_count": null,
            "flex_flow": null,
            "width": null,
            "min_width": null,
            "border": null,
            "align_items": null,
            "bottom": null,
            "_model_module": "@jupyter-widgets/base",
            "top": null,
            "grid_column": null,
            "overflow_y": null,
            "overflow_x": null,
            "grid_auto_flow": null,
            "grid_area": null,
            "grid_template_columns": null,
            "flex": null,
            "_model_name": "LayoutModel",
            "justify_items": null,
            "grid_row": null,
            "max_height": null,
            "align_content": null,
            "visibility": null,
            "align_self": null,
            "height": null,
            "min_height": null,
            "padding": null,
            "grid_auto_rows": null,
            "grid_gap": null,
            "max_width": null,
            "order": null,
            "_view_module_version": "1.2.0",
            "grid_template_areas": null,
            "object_position": null,
            "object_fit": null,
            "grid_auto_columns": null,
            "margin": null,
            "display": null,
            "left": null
          }
        },
        "7dda3acacafc4b57bedf8ae6ad9c8073": {
          "model_module": "@jupyter-widgets/controls",
          "model_name": "DescriptionStyleModel",
          "state": {
            "_view_name": "StyleView",
            "_model_name": "DescriptionStyleModel",
            "description_width": "",
            "_view_module": "@jupyter-widgets/base",
            "_model_module_version": "1.5.0",
            "_view_count": null,
            "_view_module_version": "1.2.0",
            "_model_module": "@jupyter-widgets/controls"
          }
        },
        "86189b76211a4ea0946cbf5af59fb9fa": {
          "model_module": "@jupyter-widgets/base",
          "model_name": "LayoutModel",
          "state": {
            "_view_name": "LayoutView",
            "grid_template_rows": null,
            "right": null,
            "justify_content": null,
            "_view_module": "@jupyter-widgets/base",
            "overflow": null,
            "_model_module_version": "1.2.0",
            "_view_count": null,
            "flex_flow": null,
            "width": null,
            "min_width": null,
            "border": null,
            "align_items": null,
            "bottom": null,
            "_model_module": "@jupyter-widgets/base",
            "top": null,
            "grid_column": null,
            "overflow_y": null,
            "overflow_x": null,
            "grid_auto_flow": null,
            "grid_area": null,
            "grid_template_columns": null,
            "flex": null,
            "_model_name": "LayoutModel",
            "justify_items": null,
            "grid_row": null,
            "max_height": null,
            "align_content": null,
            "visibility": null,
            "align_self": null,
            "height": null,
            "min_height": null,
            "padding": null,
            "grid_auto_rows": null,
            "grid_gap": null,
            "max_width": null,
            "order": null,
            "_view_module_version": "1.2.0",
            "grid_template_areas": null,
            "object_position": null,
            "object_fit": null,
            "grid_auto_columns": null,
            "margin": null,
            "display": null,
            "left": null
          }
        },
        "c8941c850ece495aaa83956cf5bb4312": {
          "model_module": "@jupyter-widgets/controls",
          "model_name": "HBoxModel",
          "state": {
            "_view_name": "HBoxView",
            "_dom_classes": [],
            "_model_name": "HBoxModel",
            "_view_module": "@jupyter-widgets/controls",
            "_model_module_version": "1.5.0",
            "_view_count": null,
            "_view_module_version": "1.5.0",
            "box_style": "",
            "layout": "IPY_MODEL_0d28665d6bb04b00ab5a3ddaa26d7faf",
            "_model_module": "@jupyter-widgets/controls",
            "children": [
              "IPY_MODEL_944d68d016a0426ba9b8babc794239b7",
              "IPY_MODEL_8701f80fc1d6420582967b4bdd778757"
            ]
          }
        },
        "0d28665d6bb04b00ab5a3ddaa26d7faf": {
          "model_module": "@jupyter-widgets/base",
          "model_name": "LayoutModel",
          "state": {
            "_view_name": "LayoutView",
            "grid_template_rows": null,
            "right": null,
            "justify_content": null,
            "_view_module": "@jupyter-widgets/base",
            "overflow": null,
            "_model_module_version": "1.2.0",
            "_view_count": null,
            "flex_flow": null,
            "width": null,
            "min_width": null,
            "border": null,
            "align_items": null,
            "bottom": null,
            "_model_module": "@jupyter-widgets/base",
            "top": null,
            "grid_column": null,
            "overflow_y": null,
            "overflow_x": null,
            "grid_auto_flow": null,
            "grid_area": null,
            "grid_template_columns": null,
            "flex": null,
            "_model_name": "LayoutModel",
            "justify_items": null,
            "grid_row": null,
            "max_height": null,
            "align_content": null,
            "visibility": null,
            "align_self": null,
            "height": null,
            "min_height": null,
            "padding": null,
            "grid_auto_rows": null,
            "grid_gap": null,
            "max_width": null,
            "order": null,
            "_view_module_version": "1.2.0",
            "grid_template_areas": null,
            "object_position": null,
            "object_fit": null,
            "grid_auto_columns": null,
            "margin": null,
            "display": null,
            "left": null
          }
        },
        "944d68d016a0426ba9b8babc794239b7": {
          "model_module": "@jupyter-widgets/controls",
          "model_name": "FloatProgressModel",
          "state": {
            "_view_name": "ProgressView",
            "style": "IPY_MODEL_734d0bd2eefe4179a5d317e3354609d5",
            "_dom_classes": [],
            "description": "Downloading: 100%",
            "_model_name": "FloatProgressModel",
            "bar_style": "success",
            "max": 467042463,
            "_view_module": "@jupyter-widgets/controls",
            "_model_module_version": "1.5.0",
            "value": 467042463,
            "_view_count": null,
            "_view_module_version": "1.5.0",
            "orientation": "horizontal",
            "min": 0,
            "description_tooltip": null,
            "_model_module": "@jupyter-widgets/controls",
            "layout": "IPY_MODEL_5421fdd15c084604b23efe2928581967"
          }
        },
        "8701f80fc1d6420582967b4bdd778757": {
          "model_module": "@jupyter-widgets/controls",
          "model_name": "HTMLModel",
          "state": {
            "_view_name": "HTMLView",
            "style": "IPY_MODEL_62e367dddd524e5fafc8b40fe7b28214",
            "_dom_classes": [],
            "description": "",
            "_model_name": "HTMLModel",
            "placeholder": "​",
            "_view_module": "@jupyter-widgets/controls",
            "_model_module_version": "1.5.0",
            "value": " 467M/467M [00:08&lt;00:00, 55.0MB/s]",
            "_view_count": null,
            "_view_module_version": "1.5.0",
            "description_tooltip": null,
            "_model_module": "@jupyter-widgets/controls",
            "layout": "IPY_MODEL_69642895494643b5ab8c7ca46838c525"
          }
        },
        "734d0bd2eefe4179a5d317e3354609d5": {
          "model_module": "@jupyter-widgets/controls",
          "model_name": "ProgressStyleModel",
          "state": {
            "_view_name": "StyleView",
            "_model_name": "ProgressStyleModel",
            "description_width": "initial",
            "_view_module": "@jupyter-widgets/base",
            "_model_module_version": "1.5.0",
            "_view_count": null,
            "_view_module_version": "1.2.0",
            "bar_color": null,
            "_model_module": "@jupyter-widgets/controls"
          }
        },
        "5421fdd15c084604b23efe2928581967": {
          "model_module": "@jupyter-widgets/base",
          "model_name": "LayoutModel",
          "state": {
            "_view_name": "LayoutView",
            "grid_template_rows": null,
            "right": null,
            "justify_content": null,
            "_view_module": "@jupyter-widgets/base",
            "overflow": null,
            "_model_module_version": "1.2.0",
            "_view_count": null,
            "flex_flow": null,
            "width": null,
            "min_width": null,
            "border": null,
            "align_items": null,
            "bottom": null,
            "_model_module": "@jupyter-widgets/base",
            "top": null,
            "grid_column": null,
            "overflow_y": null,
            "overflow_x": null,
            "grid_auto_flow": null,
            "grid_area": null,
            "grid_template_columns": null,
            "flex": null,
            "_model_name": "LayoutModel",
            "justify_items": null,
            "grid_row": null,
            "max_height": null,
            "align_content": null,
            "visibility": null,
            "align_self": null,
            "height": null,
            "min_height": null,
            "padding": null,
            "grid_auto_rows": null,
            "grid_gap": null,
            "max_width": null,
            "order": null,
            "_view_module_version": "1.2.0",
            "grid_template_areas": null,
            "object_position": null,
            "object_fit": null,
            "grid_auto_columns": null,
            "margin": null,
            "display": null,
            "left": null
          }
        },
        "62e367dddd524e5fafc8b40fe7b28214": {
          "model_module": "@jupyter-widgets/controls",
          "model_name": "DescriptionStyleModel",
          "state": {
            "_view_name": "StyleView",
            "_model_name": "DescriptionStyleModel",
            "description_width": "",
            "_view_module": "@jupyter-widgets/base",
            "_model_module_version": "1.5.0",
            "_view_count": null,
            "_view_module_version": "1.2.0",
            "_model_module": "@jupyter-widgets/controls"
          }
        },
        "69642895494643b5ab8c7ca46838c525": {
          "model_module": "@jupyter-widgets/base",
          "model_name": "LayoutModel",
          "state": {
            "_view_name": "LayoutView",
            "grid_template_rows": null,
            "right": null,
            "justify_content": null,
            "_view_module": "@jupyter-widgets/base",
            "overflow": null,
            "_model_module_version": "1.2.0",
            "_view_count": null,
            "flex_flow": null,
            "width": null,
            "min_width": null,
            "border": null,
            "align_items": null,
            "bottom": null,
            "_model_module": "@jupyter-widgets/base",
            "top": null,
            "grid_column": null,
            "overflow_y": null,
            "overflow_x": null,
            "grid_auto_flow": null,
            "grid_area": null,
            "grid_template_columns": null,
            "flex": null,
            "_model_name": "LayoutModel",
            "justify_items": null,
            "grid_row": null,
            "max_height": null,
            "align_content": null,
            "visibility": null,
            "align_self": null,
            "height": null,
            "min_height": null,
            "padding": null,
            "grid_auto_rows": null,
            "grid_gap": null,
            "max_width": null,
            "order": null,
            "_view_module_version": "1.2.0",
            "grid_template_areas": null,
            "object_position": null,
            "object_fit": null,
            "grid_auto_columns": null,
            "margin": null,
            "display": null,
            "left": null
          }
        }
      }
    }
  },
  "cells": [
    {
      "cell_type": "code",
      "metadata": {
        "colab": {
          "base_uri": "https://localhost:8080/"
        },
        "id": "bYg9rv98yAsC",
        "outputId": "5b826282-5f7f-4553-c9e9-af47aa31d1a6"
      },
      "source": [
        "from google.colab import drive\r\n",
        "drive.mount('/content/drive', force_remount=True)"
      ],
      "execution_count": 1,
      "outputs": [
        {
          "output_type": "stream",
          "text": [
            "Mounted at /content/drive\n"
          ],
          "name": "stdout"
        }
      ]
    },
    {
      "cell_type": "code",
      "metadata": {
        "id": "tCIcsw-61V1Q"
      },
      "source": [
        "!unzip -qq ./drive/My\\ Drive/twitter_sentiment.zip"
      ],
      "execution_count": 2,
      "outputs": []
    },
    {
      "cell_type": "code",
      "metadata": {
        "colab": {
          "base_uri": "https://localhost:8080/"
        },
        "id": "GgLameLw1Xr1",
        "outputId": "f6e4a3b4-45b7-4aa6-b210-dba57562904e"
      },
      "source": [
        "!pip install urllib3==1.25.9\r\n",
        "\r\n",
        "!pip install transformers==2.8.0"
      ],
      "execution_count": 3,
      "outputs": [
        {
          "output_type": "stream",
          "text": [
            "Collecting urllib3==1.25.9\n",
            "\u001b[?25l  Downloading https://files.pythonhosted.org/packages/e1/e5/df302e8017440f111c11cc41a6b432838672f5a70aa29227bf58149dc72f/urllib3-1.25.9-py2.py3-none-any.whl (126kB)\n",
            "\r\u001b[K     |██▋                             | 10kB 24.2MB/s eta 0:00:01\r\u001b[K     |█████▏                          | 20kB 29.0MB/s eta 0:00:01\r\u001b[K     |███████▊                        | 30kB 34.5MB/s eta 0:00:01\r\u001b[K     |██████████▍                     | 40kB 32.1MB/s eta 0:00:01\r\u001b[K     |█████████████                   | 51kB 32.0MB/s eta 0:00:01\r\u001b[K     |███████████████▌                | 61kB 34.2MB/s eta 0:00:01\r\u001b[K     |██████████████████              | 71kB 22.4MB/s eta 0:00:01\r\u001b[K     |████████████████████▊           | 81kB 20.9MB/s eta 0:00:01\r\u001b[K     |███████████████████████▎        | 92kB 22.3MB/s eta 0:00:01\r\u001b[K     |█████████████████████████▉      | 102kB 20.9MB/s eta 0:00:01\r\u001b[K     |████████████████████████████▍   | 112kB 20.9MB/s eta 0:00:01\r\u001b[K     |███████████████████████████████ | 122kB 20.9MB/s eta 0:00:01\r\u001b[K     |████████████████████████████████| 133kB 20.9MB/s \n",
            "\u001b[31mERROR: datascience 0.10.6 has requirement folium==0.2.1, but you'll have folium 0.8.3 which is incompatible.\u001b[0m\n",
            "\u001b[?25hInstalling collected packages: urllib3\n",
            "  Found existing installation: urllib3 1.24.3\n",
            "    Uninstalling urllib3-1.24.3:\n",
            "      Successfully uninstalled urllib3-1.24.3\n",
            "Successfully installed urllib3-1.25.9\n",
            "Collecting transformers==2.8.0\n",
            "\u001b[?25l  Downloading https://files.pythonhosted.org/packages/a3/78/92cedda05552398352ed9784908b834ee32a0bd071a9b32de287327370b7/transformers-2.8.0-py3-none-any.whl (563kB)\n",
            "\u001b[K     |████████████████████████████████| 573kB 17.6MB/s \n",
            "\u001b[?25hCollecting sentencepiece\n",
            "\u001b[?25l  Downloading https://files.pythonhosted.org/packages/e5/2d/6d4ca4bef9a67070fa1cac508606328329152b1df10bdf31fb6e4e727894/sentencepiece-0.1.94-cp36-cp36m-manylinux2014_x86_64.whl (1.1MB)\n",
            "\u001b[K     |████████████████████████████████| 1.1MB 50.4MB/s \n",
            "\u001b[?25hRequirement already satisfied: dataclasses; python_version < \"3.7\" in /usr/local/lib/python3.6/dist-packages (from transformers==2.8.0) (0.8)\n",
            "Collecting tokenizers==0.5.2\n",
            "\u001b[?25l  Downloading https://files.pythonhosted.org/packages/d1/3f/73c881ea4723e43c1e9acf317cf407fab3a278daab3a69c98dcac511c04f/tokenizers-0.5.2-cp36-cp36m-manylinux1_x86_64.whl (3.7MB)\n",
            "\u001b[K     |████████████████████████████████| 3.7MB 50.8MB/s \n",
            "\u001b[?25hRequirement already satisfied: filelock in /usr/local/lib/python3.6/dist-packages (from transformers==2.8.0) (3.0.12)\n",
            "Requirement already satisfied: regex!=2019.12.17 in /usr/local/lib/python3.6/dist-packages (from transformers==2.8.0) (2019.12.20)\n",
            "Collecting boto3\n",
            "\u001b[?25l  Downloading https://files.pythonhosted.org/packages/f6/bf/6fd00f2e8b2f9e8688b10b616c66be985a0053729cb1e92ac2f6e8ec1cd6/boto3-1.16.40-py2.py3-none-any.whl (130kB)\n",
            "\u001b[K     |████████████████████████████████| 133kB 55.5MB/s \n",
            "\u001b[?25hCollecting sacremoses\n",
            "\u001b[?25l  Downloading https://files.pythonhosted.org/packages/7d/34/09d19aff26edcc8eb2a01bed8e98f13a1537005d31e95233fd48216eed10/sacremoses-0.0.43.tar.gz (883kB)\n",
            "\u001b[K     |████████████████████████████████| 890kB 35.5MB/s \n",
            "\u001b[?25hRequirement already satisfied: numpy in /usr/local/lib/python3.6/dist-packages (from transformers==2.8.0) (1.19.4)\n",
            "Requirement already satisfied: tqdm>=4.27 in /usr/local/lib/python3.6/dist-packages (from transformers==2.8.0) (4.41.1)\n",
            "Requirement already satisfied: requests in /usr/local/lib/python3.6/dist-packages (from transformers==2.8.0) (2.23.0)\n",
            "Collecting botocore<1.20.0,>=1.19.40\n",
            "\u001b[?25l  Downloading https://files.pythonhosted.org/packages/ea/77/13fc099a10c22d08d766e244412c114694e21982c04cafc1ade33d8a430c/botocore-1.19.40-py2.py3-none-any.whl (7.1MB)\n",
            "\u001b[K     |████████████████████████████████| 7.1MB 50.0MB/s \n",
            "\u001b[?25hCollecting s3transfer<0.4.0,>=0.3.0\n",
            "\u001b[?25l  Downloading https://files.pythonhosted.org/packages/69/79/e6afb3d8b0b4e96cefbdc690f741d7dd24547ff1f94240c997a26fa908d3/s3transfer-0.3.3-py2.py3-none-any.whl (69kB)\n",
            "\u001b[K     |████████████████████████████████| 71kB 11.7MB/s \n",
            "\u001b[?25hCollecting jmespath<1.0.0,>=0.7.1\n",
            "  Downloading https://files.pythonhosted.org/packages/07/cb/5f001272b6faeb23c1c9e0acc04d48eaaf5c862c17709d20e3469c6e0139/jmespath-0.10.0-py2.py3-none-any.whl\n",
            "Requirement already satisfied: six in /usr/local/lib/python3.6/dist-packages (from sacremoses->transformers==2.8.0) (1.15.0)\n",
            "Requirement already satisfied: click in /usr/local/lib/python3.6/dist-packages (from sacremoses->transformers==2.8.0) (7.1.2)\n",
            "Requirement already satisfied: joblib in /usr/local/lib/python3.6/dist-packages (from sacremoses->transformers==2.8.0) (1.0.0)\n",
            "Requirement already satisfied: idna<3,>=2.5 in /usr/local/lib/python3.6/dist-packages (from requests->transformers==2.8.0) (2.10)\n",
            "Requirement already satisfied: urllib3!=1.25.0,!=1.25.1,<1.26,>=1.21.1 in /usr/local/lib/python3.6/dist-packages (from requests->transformers==2.8.0) (1.25.9)\n",
            "Requirement already satisfied: certifi>=2017.4.17 in /usr/local/lib/python3.6/dist-packages (from requests->transformers==2.8.0) (2020.12.5)\n",
            "Requirement already satisfied: chardet<4,>=3.0.2 in /usr/local/lib/python3.6/dist-packages (from requests->transformers==2.8.0) (3.0.4)\n",
            "Requirement already satisfied: python-dateutil<3.0.0,>=2.1 in /usr/local/lib/python3.6/dist-packages (from botocore<1.20.0,>=1.19.40->boto3->transformers==2.8.0) (2.8.1)\n",
            "Building wheels for collected packages: sacremoses\n",
            "  Building wheel for sacremoses (setup.py) ... \u001b[?25l\u001b[?25hdone\n",
            "  Created wheel for sacremoses: filename=sacremoses-0.0.43-cp36-none-any.whl size=893261 sha256=4492074be1b868cbde16c9a940d4b90512c9a65213edf58c6c6b8339a287194c\n",
            "  Stored in directory: /root/.cache/pip/wheels/29/3c/fd/7ce5c3f0666dab31a50123635e6fb5e19ceb42ce38d4e58f45\n",
            "Successfully built sacremoses\n",
            "Installing collected packages: sentencepiece, tokenizers, jmespath, botocore, s3transfer, boto3, sacremoses, transformers\n",
            "Successfully installed boto3-1.16.40 botocore-1.19.40 jmespath-0.10.0 s3transfer-0.3.3 sacremoses-0.0.43 sentencepiece-0.1.94 tokenizers-0.5.2 transformers-2.8.0\n"
          ],
          "name": "stdout"
        }
      ]
    },
    {
      "cell_type": "code",
      "metadata": {
        "id": "eQEKbvGR1fgW"
      },
      "source": [
        "import csv\r\n",
        "import os\r\n",
        "\r\n",
        "import transformers\r\n",
        "from transformers import XLNetTokenizer, XLNetModel, AdamW, get_linear_schedule_with_warmup\r\n",
        "import torch\r\n",
        "import numpy as np\r\n",
        "import pandas as pd\r\n",
        "import seaborn as sns\r\n",
        "import matplotlib.pyplot as plt\r\n",
        "from matplotlib import rc\r\n",
        "from collections import defaultdict\r\n",
        "from pylab import rcParams\r\n",
        "from torch import nn, optim\r\n",
        "from keras.preprocessing.sequence import pad_sequences\r\n",
        "from torch.utils.data import TensorDataset,RandomSampler,SequentialSampler\r\n",
        "from torch.utils.data import Dataset, DataLoader\r\n",
        "import torch.nn.functional as F\r\n",
        "import re"
      ],
      "execution_count": 4,
      "outputs": []
    },
    {
      "cell_type": "code",
      "metadata": {
        "id": "niiIkFOE1llZ"
      },
      "source": [
        "sns.set(style='whitegrid', palette='muted', font_scale=1.2)\r\n",
        "rcParams['figure.figsize'] = 8, 5"
      ],
      "execution_count": 5,
      "outputs": []
    },
    {
      "cell_type": "code",
      "metadata": {
        "colab": {
          "base_uri": "https://localhost:8080/",
          "height": 66,
          "referenced_widgets": [
            "bdf7119c31544dea8e2879c629b8231b",
            "a6f6c6bf9f7b41c18f3df23636b25c65",
            "93322ec4b7f74ca8b09c5793124ebd19",
            "354bdc89aacd4a7abc30cdfb64f0af08",
            "8ac054a826624660a16ee3d927f4226e",
            "f6881aedfd7045a1a5cc62dc82c13922",
            "b55d3315df7b41ee8e55b3effa2bacaa",
            "0b161842472d40b0995d051ea57d58c3"
          ]
        },
        "id": "GUZ_lV-12XXY",
        "outputId": "fde75d78-1854-4565-b56a-a7a0fd28bdaa"
      },
      "source": [
        "PRE_TRAINED_MODEL_NAME = 'xlnet-base-cased'\r\n",
        "\r\n",
        "tokenizer = XLNetTokenizer.from_pretrained(PRE_TRAINED_MODEL_NAME)\r\n"
      ],
      "execution_count": 6,
      "outputs": [
        {
          "output_type": "display_data",
          "data": {
            "application/vnd.jupyter.widget-view+json": {
              "model_id": "bdf7119c31544dea8e2879c629b8231b",
              "version_minor": 0,
              "version_major": 2
            },
            "text/plain": [
              "HBox(children=(FloatProgress(value=0.0, description='Downloading', max=798011.0, style=ProgressStyle(descripti…"
            ]
          },
          "metadata": {
            "tags": []
          }
        },
        {
          "output_type": "stream",
          "text": [
            "\n"
          ],
          "name": "stdout"
        }
      ]
    },
    {
      "cell_type": "code",
      "metadata": {
        "id": "XAwDBvGr2gbF"
      },
      "source": [
        "class sentiment_analysis(Dataset):\r\n",
        "\r\n",
        "    def __init__(self, csv_file, mode,tokenizer):\r\n",
        "\r\n",
        "        \r\n",
        "        self.mode = mode\r\n",
        "        self.tokenizer = tokenizer\r\n",
        "      \r\n",
        "        df = pd.read_csv(csv_file)\r\n",
        "\r\n",
        "        # Function to clean text. Remove tagged entities, hyperlinks, emojis\r\n",
        "        def clean_text(text):\r\n",
        "            text = re.sub(r\"@[A-Za-z0-9]+\", ' ', text)\r\n",
        "            text = re.sub(r\"https?://[A-Za-z0-9./]+\", ' ', text)\r\n",
        "            text = re.sub(r\"[^a-zA-z.!?'0-9]\", ' ', text)\r\n",
        "            text = re.sub('\\t', ' ',  text)\r\n",
        "            text = re.sub(r\" +\", ' ', text)\r\n",
        "            return text\r\n",
        "        \r\n",
        "        df['review'] = df['text'].apply(clean_text)\r\n",
        "\r\n",
        "        self.reviews = df['text'].to_numpy()\r\n",
        "\r\n",
        "        if mode != 'test':\r\n",
        "          self.targets = df['sentiment_label'].to_numpy()\r\n",
        "\r\n",
        "        self.token = []\r\n",
        "\r\n",
        "        for txt in df.review:\r\n",
        "          tokens = tokenizer.encode(txt, max_length=512)\r\n",
        "          self.token.append(len(tokens))\r\n",
        "        \r\n",
        "\r\n",
        "    \r\n",
        "    def tokenizer_len(self):#找出最大的tokenizer_len\r\n",
        "        self.token_lens =max(self.token)+30\r\n",
        "        return (self.token_lens)\r\n",
        "\r\n",
        "    def tolenizer_distribute(self):#畫出最大的tokenizer_len的分配\r\n",
        "\r\n",
        "        sns.distplot(self.token_lens)\r\n",
        "        plt.xlim([0, 256]);\r\n",
        "        plt.xlabel('Token count');plt.show()\r\n",
        "    \r\n",
        "    def __len__(self):\r\n",
        "        return len(self.reviews)\r\n",
        "    \r\n",
        "    def __getitem__(self, item):\r\n",
        "        review = str(self.reviews[item])\r\n",
        "\r\n",
        "        encoding = self.tokenizer.encode_plus(\r\n",
        "        review,\r\n",
        "        add_special_tokens=True,\r\n",
        "        max_length=100,\r\n",
        "        return_token_type_ids=False,\r\n",
        "        pad_to_max_length=True,\r\n",
        "        return_attention_mask=True,\r\n",
        "        return_tensors='pt',\r\n",
        "        )\r\n",
        "\r\n",
        "        input_ids = pad_sequences(encoding['input_ids'], maxlen=100, dtype=torch.Tensor ,truncating=\"post\",padding=\"post\")\r\n",
        "        input_ids = input_ids.astype(dtype = 'int64')\r\n",
        "        input_ids = torch.tensor(input_ids) \r\n",
        "\r\n",
        "        attention_mask = pad_sequences(encoding['attention_mask'], maxlen=100, dtype=torch.Tensor ,truncating=\"post\",padding=\"post\")\r\n",
        "        attention_mask = attention_mask.astype(dtype = 'int64')\r\n",
        "        attention_mask = torch.tensor(attention_mask)       \r\n",
        "\r\n",
        "        if self.mode!='test':\r\n",
        "          target = self.targets[item]\r\n",
        "\r\n",
        "          return {\r\n",
        "          'review_text': review,\r\n",
        "          'input_ids': encoding['input_ids'].flatten(),\r\n",
        "          'attention_mask': encoding['attention_mask'].flatten(),\r\n",
        "          'targets': torch.tensor(target)\r\n",
        "          }\r\n",
        "        else:\r\n",
        "          return{      \r\n",
        "            'review_text': review,\r\n",
        "            'input_ids': encoding['input_ids'].flatten(),\r\n",
        "            'attention_mask': encoding['attention_mask'].flatten()}"
      ],
      "execution_count": 7,
      "outputs": []
    },
    {
      "cell_type": "code",
      "metadata": {
        "id": "33OjRNAo3_n6"
      },
      "source": [
        "dataset_train=sentiment_analysis ('./twitter_sentiment/train.csv','train', tokenizer)\r\n",
        "dataset_val=sentiment_analysis('./twitter_sentiment/val.csv', 'val',tokenizer)\r\n",
        "dataset_test=sentiment_analysis('./twitter_sentiment/test.csv','test',tokenizer)"
      ],
      "execution_count": 8,
      "outputs": []
    },
    {
      "cell_type": "code",
      "metadata": {
        "id": "cJ0NFWBW4MZi"
      },
      "source": [
        "BATCH_SIZE=8\r\n",
        "\r\n",
        "train_loader = DataLoader(dataset_train, batch_size=BATCH_SIZE, shuffle=True)\r\n",
        "val_loader = DataLoader(dataset_val, batch_size=BATCH_SIZE, shuffle=False)\r\n",
        "test_loader = DataLoader(dataset_test, batch_size=BATCH_SIZE, shuffle=False)"
      ],
      "execution_count": 9,
      "outputs": []
    },
    {
      "cell_type": "code",
      "metadata": {
        "colab": {
          "base_uri": "https://localhost:8080/"
        },
        "id": "hhLoUp-a8mlc",
        "outputId": "3eaa4694-29f8-48a4-f37c-cef8dc6d1379"
      },
      "source": [
        "data1 = next(iter(test_loader))\r\n",
        "data1.keys()"
      ],
      "execution_count": 10,
      "outputs": [
        {
          "output_type": "execute_result",
          "data": {
            "text/plain": [
              "dict_keys(['review_text', 'input_ids', 'attention_mask'])"
            ]
          },
          "metadata": {
            "tags": []
          },
          "execution_count": 10
        }
      ]
    },
    {
      "cell_type": "code",
      "metadata": {
        "colab": {
          "base_uri": "https://localhost:8080/",
          "height": 451
        },
        "id": "wIpQnVdi7V8B",
        "outputId": "d40175c4-7460-4d50-82cc-b2637133a37f"
      },
      "source": [
        "print(dataset_train.tokenizer_len())\r\n",
        "dataset_train.tolenizer_distribute()"
      ],
      "execution_count": 11,
      "outputs": [
        {
          "output_type": "stream",
          "text": [
            "90\n"
          ],
          "name": "stdout"
        },
        {
          "output_type": "stream",
          "text": [
            "/usr/local/lib/python3.6/dist-packages/seaborn/distributions.py:2551: FutureWarning: `distplot` is a deprecated function and will be removed in a future version. Please adapt your code to use either `displot` (a figure-level function with similar flexibility) or `histplot` (an axes-level function for histograms).\n",
            "  warnings.warn(msg, FutureWarning)\n",
            "/usr/local/lib/python3.6/dist-packages/seaborn/distributions.py:305: UserWarning: Dataset has 0 variance; skipping density estimate.\n",
            "  warnings.warn(msg, UserWarning)\n"
          ],
          "name": "stderr"
        },
        {
          "output_type": "display_data",
          "data": {
            "image/png": "[encoded data removed]",
            "text/plain": [
              "<Figure size 576x360 with 1 Axes>"
            ]
          },
          "metadata": {
            "tags": []
          }
        }
      ]
    },
    {
      "cell_type": "code",
      "metadata": {
        "id": "w3F6ONqvZidt"
      },
      "source": [
        "# max_len=dataset_train.tokenizer_len()"
      ],
      "execution_count": null,
      "outputs": []
    },
    {
      "cell_type": "code",
      "metadata": {
        "id": "4zt3MFi65Al0"
      },
      "source": [
        "# XLNet_model = XLNetModel.from_pretrained(PRE_TRAINED_MODEL_NAME)\r\n"
      ],
      "execution_count": null,
      "outputs": []
    },
    {
      "cell_type": "code",
      "metadata": {
        "id": "AX5FSNGp5x1i"
      },
      "source": [
        "# class SentimentClassifier(nn.Module):\r\n",
        "\r\n",
        "#   def __init__(self, n_classes):\r\n",
        "#     super(SentimentClassifier, self).__init__()\r\n",
        "#     self.XLNet =  XLNetModel.from_pretrained(PRE_TRAINED_MODEL_NAME)\r\n",
        "#     self.drop = nn.Dropout(p=0.3)\r\n",
        "#     self.out = nn.Linear(self.XLNet.config.hidden_size, n_classes)\r\n",
        "  \r\n",
        "#   def forward(self, input_ids, attention_mask):\r\n",
        "#     _, pooled_output = self.XLNet(\r\n",
        "#       input_ids=input_ids,\r\n",
        "#       attention_mask=attention_mask\r\n",
        "#     )\r\n",
        "#     output = self.drop(pooled_output)\r\n",
        "#     return self.out(output)"
      ],
      "execution_count": null,
      "outputs": []
    },
    {
      "cell_type": "code",
      "metadata": {
        "id": "9Ovp0E7h6NLo"
      },
      "source": [
        "# model = SentimentClassifier(3)#共有3類(正,中,負)\r\n",
        "# device = torch.device(\"cuda:0\" if torch.cuda.is_available() else \"cpu\")\r\n",
        "\r\n",
        "# model = model.to(device)"
      ],
      "execution_count": null,
      "outputs": []
    },
    {
      "cell_type": "code",
      "metadata": {
        "colab": {
          "base_uri": "https://localhost:8080/",
          "height": 116,
          "referenced_widgets": [
            "30e0f23ac2f3417b8e2de28156120fcd",
            "ef2277d3f98a4e78a7dd38919db627ae",
            "4124b488ee974d0db67534accf2474d3",
            "ca3e705cb57245dba287c11c9b8863f1",
            "75014dee0a5e4a179ea47c869e39fee1",
            "ee1b9798cf7b40a4a0c3767b4fc1cc04",
            "7dda3acacafc4b57bedf8ae6ad9c8073",
            "86189b76211a4ea0946cbf5af59fb9fa",
            "c8941c850ece495aaa83956cf5bb4312",
            "0d28665d6bb04b00ab5a3ddaa26d7faf",
            "944d68d016a0426ba9b8babc794239b7",
            "8701f80fc1d6420582967b4bdd778757",
            "734d0bd2eefe4179a5d317e3354609d5",
            "5421fdd15c084604b23efe2928581967",
            "62e367dddd524e5fafc8b40fe7b28214",
            "69642895494643b5ab8c7ca46838c525"
          ]
        },
        "id": "95PcR5IXlSZZ",
        "outputId": "1f732a2b-cc5f-405e-8455-c319a2e97f0f"
      },
      "source": [
        "from transformers import XLNetForSequenceClassification\r\n",
        "\r\n",
        "device = torch.device(\"cuda:0\" if torch.cuda.is_available() else \"cpu\")\r\n",
        "\r\n",
        "model = XLNetForSequenceClassification.from_pretrained('xlnet-base-cased', num_labels = 3)\r\n",
        "model = model.to(device)\r\n"
      ],
      "execution_count": 11,
      "outputs": [
        {
          "output_type": "display_data",
          "data": {
            "application/vnd.jupyter.widget-view+json": {
              "model_id": "30e0f23ac2f3417b8e2de28156120fcd",
              "version_minor": 0,
              "version_major": 2
            },
            "text/plain": [
              "HBox(children=(FloatProgress(value=0.0, description='Downloading', max=760.0, style=ProgressStyle(description_…"
            ]
          },
          "metadata": {
            "tags": []
          }
        },
        {
          "output_type": "stream",
          "text": [
            "\n"
          ],
          "name": "stdout"
        },
        {
          "output_type": "display_data",
          "data": {
            "application/vnd.jupyter.widget-view+json": {
              "model_id": "c8941c850ece495aaa83956cf5bb4312",
              "version_minor": 0,
              "version_major": 2
            },
            "text/plain": [
              "HBox(children=(FloatProgress(value=0.0, description='Downloading', max=467042463.0, style=ProgressStyle(descri…"
            ]
          },
          "metadata": {
            "tags": []
          }
        },
        {
          "output_type": "stream",
          "text": [
            "\n"
          ],
          "name": "stdout"
        }
      ]
    },
    {
      "cell_type": "code",
      "metadata": {
        "id": "cY4j0HD34HQa"
      },
      "source": [
        "EPOCHS = 5\r\n",
        "\r\n",
        "param_optimizer = list(model.named_parameters())\r\n",
        "no_decay = ['bias', 'LayerNorm.bias', 'LayerNorm.weight']\r\n",
        "optimizer_grouped_parameters = [\r\n",
        "                                {'params': [p for n, p in param_optimizer if not any(nd in n for nd in no_decay)], 'weight_decay': 0.01},\r\n",
        "                                {'params': [p for n, p in param_optimizer if any(nd in n for nd in no_decay)], 'weight_decay':0.0}\r\n",
        "]\r\n",
        "optimizer = AdamW(optimizer_grouped_parameters, lr=1e-5)\r\n",
        "\r\n",
        "total_steps = len(train_loader) * EPOCHS\r\n",
        "\r\n",
        "scheduler = get_linear_schedule_with_warmup(\r\n",
        "  optimizer,\r\n",
        "  num_warmup_steps=0,\r\n",
        "  num_training_steps=total_steps\r\n",
        ")\r\n",
        "loss_fn = nn.CrossEntropyLoss().to(device)\r\n"
      ],
      "execution_count": 12,
      "outputs": []
    },
    {
      "cell_type": "code",
      "metadata": {
        "id": "37apWENq4zMi"
      },
      "source": [
        "def train_epoch(model,data_loader,loss_fn, optimizer,scheduler):  \r\n",
        " \r\n",
        "  model = model.train()\r\n",
        "\r\n",
        "  losses = []\r\n",
        "  correct_predictions = 0\r\n",
        "  total_count=0\r\n",
        "  for d in data_loader:\r\n",
        "    input_ids = d[\"input_ids\"].reshape(BATCH_SIZE,100).to(device)\r\n",
        "    attention_mask = d[\"attention_mask\"].to(device)\r\n",
        "    targets = d[\"targets\"].to(device)\r\n",
        "\r\n",
        "    outputs = model(\r\n",
        "      input_ids=input_ids,\r\n",
        "      attention_mask=attention_mask, labels = targets)\r\n",
        "    \r\n",
        "    _, preds =torch.max(outputs[1], dim=1)\r\n",
        "    # _, preds = torch.max(outputs.data, dim=1)\r\n",
        "    loss = outputs[0]\r\n",
        "    # loss = loss_fn(outputs, targets)\r\n",
        "\r\n",
        "    correct_predictions += torch.sum(preds == targets)\r\n",
        "    losses.append(loss.item())\r\n",
        "\r\n",
        "    loss.backward()\r\n",
        "    nn.utils.clip_grad_norm_(model.parameters(), max_norm=1.0)\r\n",
        "    optimizer.step()\r\n",
        "    scheduler.step()\r\n",
        "    optimizer.zero_grad()\r\n",
        "\r\n",
        "    total_count +=len(attention_mask)\r\n",
        "\r\n",
        "  return correct_predictions.double() / total_count, np.mean(losses)"
      ],
      "execution_count": 13,
      "outputs": []
    },
    {
      "cell_type": "code",
      "metadata": {
        "id": "js_vjg496g4B"
      },
      "source": [
        "def eval_model(model, data_loader, loss_fn):\r\n",
        "  model = model.eval()\r\n",
        "\r\n",
        "  losses = []\r\n",
        "  correct_predictions = 0\r\n",
        "  total_count=0\r\n",
        "  with torch.no_grad():\r\n",
        "    for d in data_loader:\r\n",
        "      input_ids = d[\"input_ids\"].reshape(BATCH_SIZE,100).to(device)      \r\n",
        "      attention_mask = d[\"attention_mask\"].to(device)\r\n",
        "      targets = d[\"targets\"].to(device)\r\n",
        "\r\n",
        "      outputs = model(\r\n",
        "        input_ids=input_ids,\r\n",
        "        attention_mask=attention_mask, labels = targets)\r\n",
        "     \r\n",
        "      _, preds =torch.max(outputs[1], dim=1)\r\n",
        "\r\n",
        "      # loss = loss_fn(outputs, targets)\r\n",
        "      loss = outputs[0]\r\n",
        "\r\n",
        "      correct_predictions += torch.sum(preds == targets)\r\n",
        "      # correct_predictions +=(preds==targets).sum().item()\r\n",
        "      losses.append(loss.item())\r\n",
        "      total_count +=len(attention_mask)\r\n",
        "\r\n",
        "  return correct_predictions.double() / total_count, np.mean(losses)"
      ],
      "execution_count": 14,
      "outputs": []
    },
    {
      "cell_type": "code",
      "metadata": {
        "id": "IEK_ZAio6jIu",
        "colab": {
          "base_uri": "https://localhost:8080/"
        },
        "outputId": "52831381-5a9d-4e68-a2de-a887e6d23506"
      },
      "source": [
        "history = defaultdict(list)\r\n",
        "best_accuracy = 0\r\n",
        "\r\n",
        "for epoch in range(EPOCHS):\r\n",
        "\r\n",
        "  print(f'Epoch {epoch + 1}/{EPOCHS}')\r\n",
        "  print('-' * 10)\r\n",
        "\r\n",
        "  train_acc, train_loss = train_epoch(model,train_loader,\r\n",
        "                                      loss_fn,optimizer,scheduler)\r\n",
        "    \r\n",
        "  print(f'Train loss {train_loss} accuracy {train_acc}')\r\n",
        "\r\n",
        "  val_acc, val_loss = eval_model(model,val_loader,loss_fn)\r\n",
        "    \r\n",
        "    \r\n",
        "  print(f'Val loss {val_loss} accuracy {val_acc}')\r\n",
        "\r\n",
        "  history['train_acc'].append(train_acc)\r\n",
        "  history['train_loss'].append(train_loss)\r\n",
        "  history['val_acc'].append(val_acc)\r\n",
        "  history['val_loss'].append(val_loss)\r\n",
        "\r\n",
        "  if val_acc > best_accuracy:#儲存最好的模型\r\n",
        "    torch.save(model.state_dict(), 'best_model_state.bin')\r\n",
        "    best_accuracy = val_acc"
      ],
      "execution_count": 15,
      "outputs": [
        {
          "output_type": "stream",
          "text": [
            "Epoch 1/5\n",
            "----------\n"
          ],
          "name": "stdout"
        },
        {
          "output_type": "stream",
          "text": [
            "/usr/local/lib/python3.6/dist-packages/torch/nn/functional.py:1628: UserWarning: nn.functional.tanh is deprecated. Use torch.tanh instead.\n",
            "  warnings.warn(\"nn.functional.tanh is deprecated. Use torch.tanh instead.\")\n",
            "/usr/local/lib/python3.6/dist-packages/transformers/optimization.py:155: UserWarning: This overload of add_ is deprecated:\n",
            "\tadd_(Number alpha, Tensor other)\n",
            "Consider using one of the following signatures instead:\n",
            "\tadd_(Tensor other, *, Number alpha) (Triggered internally at  /pytorch/torch/csrc/utils/python_arg_parser.cpp:882.)\n",
            "  exp_avg.mul_(beta1).add_(1.0 - beta1, grad)\n"
          ],
          "name": "stderr"
        },
        {
          "output_type": "stream",
          "text": [
            "Train loss 0.5318699169767312 accuracy 0.7906908665105387\n",
            "Val loss 0.41550718754774235 accuracy 0.8463114754098361\n",
            "Epoch 2/5\n",
            "----------\n",
            "Train loss 0.4007605389763865 accuracy 0.8650468384074942\n",
            "Val loss 0.49170931597377676 accuracy 0.8497267759562841\n",
            "Epoch 3/5\n",
            "----------\n",
            "Train loss 0.3326180866494328 accuracy 0.9002732240437158\n",
            "Val loss 0.6284957026001676 accuracy 0.8504098360655737\n",
            "Epoch 4/5\n",
            "----------\n",
            "Train loss 0.2808332815122915 accuracy 0.9240827478532396\n",
            "Val loss 0.7272817787442031 accuracy 0.8469945355191257\n",
            "Epoch 5/5\n",
            "----------\n",
            "Train loss 0.24311114337636452 accuracy 0.9383294301327089\n",
            "Val loss 0.7808042523653763 accuracy 0.8565573770491803\n"
          ],
          "name": "stdout"
        }
      ]
    },
    {
      "cell_type": "code",
      "metadata": {
        "id": "8Iay7yeL6zfx",
        "colab": {
          "base_uri": "https://localhost:8080/",
          "height": 360
        },
        "outputId": "205b74b8-067f-4453-ebe9-8d3103019d53"
      },
      "source": [
        "plt.plot(history['train_acc'], label='train accuracy')\r\n",
        "plt.plot(history['val_acc'], label='validation accuracy')\r\n",
        "\r\n",
        "plt.title('Training history')\r\n",
        "plt.ylabel('Accuracy')\r\n",
        "plt.xlabel('Epoch')\r\n",
        "plt.legend()\r\n",
        "plt.ylim([0.6, 1]);"
      ],
      "execution_count": 16,
      "outputs": [
        {
          "output_type": "display_data",
          "data": {
            "image/png": "[encoded data removed]",
            "text/plain": [
              "<Figure size 576x360 with 1 Axes>"
            ]
          },
          "metadata": {
            "tags": []
          }
        }
      ]
    },
    {
      "cell_type": "code",
      "metadata": {
        "id": "zGPGU7G1Bk4H"
      },
      "source": [
        "def get_predictions(model, data_loader):\r\n",
        "  model = model.eval()\r\n",
        "  predictions = []\r\n",
        "\r\n",
        "  with torch.no_grad():\r\n",
        "    for d in data_loader:\r\n",
        "\r\n",
        "      input_ids = d[\"input_ids\"].reshape(BATCH_SIZE,100).to(device)\r\n",
        "      attention_mask = d[\"attention_mask\"].to(device)\r\n",
        "\r\n",
        "      outputs = model(\r\n",
        "        input_ids=input_ids,\r\n",
        "        attention_mask=attention_mask)\r\n",
        "      \r\n",
        "      _, preds = torch.max(outputs[0], dim=1)\r\n",
        "\r\n",
        "      predictions.extend(preds.to('cpu').numpy().tolist())\r\n",
        "\r\n",
        "  return predictions"
      ],
      "execution_count": 17,
      "outputs": []
    },
    {
      "cell_type": "code",
      "metadata": {
        "id": "dM2SOh1bBnjF"
      },
      "source": [
        "y_pred = get_predictions(model,test_loader)\r\n",
        "  \r\n",
        "y_pred"
      ],
      "execution_count": null,
      "outputs": []
    },
    {
      "cell_type": "code",
      "metadata": {
        "id": "_89PAqC9Bpke"
      },
      "source": [
        "idx = 0\r\n",
        "with open('sentiment_analysis.csv', 'w', newline='') as csvFile:\r\n",
        "    writer = csv.DictWriter(csvFile, fieldnames=['index', 'sentiment_label'])\r\n",
        "    writer.writeheader()\r\n",
        "    for result in y_pred:\r\n",
        "        writer.writerow({'index':idx, 'sentiment_label':result})\r\n",
        "        idx+=1"
      ],
      "execution_count": 19,
      "outputs": []
    },
    {
      "cell_type": "code",
      "metadata": {
        "id": "m4IdmOqFBrRS",
        "colab": {
          "base_uri": "https://localhost:8080/",
          "height": 17
        },
        "outputId": "5cd8e1e2-92e0-4ea0-d168-b4d01992a909"
      },
      "source": [
        "from google.colab import files\r\n",
        "files.download(\"sentiment_analysis.csv\")\r\n"
      ],
      "execution_count": 20,
      "outputs": [
        {
          "output_type": "display_data",
          "data": {
            "application/javascript": [
              "\n",
              "    async function download(id, filename, size) {\n",
              "      if (!google.colab.kernel.accessAllowed) {\n",
              "        return;\n",
              "      }\n",
              "      const div = document.createElement('div');\n",
              "      const label = document.createElement('label');\n",
              "      label.textContent = `Downloading \"${filename}\": `;\n",
              "      div.appendChild(label);\n",
              "      const progress = document.createElement('progress');\n",
              "      progress.max = size;\n",
              "      div.appendChild(progress);\n",
              "      document.body.appendChild(div);\n",
              "\n",
              "      const buffers = [];\n",
              "      let downloaded = 0;\n",
              "\n",
              "      const channel = await google.colab.kernel.comms.open(id);\n",
              "      // Send a message to notify the kernel that we're ready.\n",
              "      channel.send({})\n",
              "\n",
              "      for await (const message of channel.messages) {\n",
              "        // Send a message to notify the kernel that we're ready.\n",
              "        channel.send({})\n",
              "        if (message.buffers) {\n",
              "          for (const buffer of message.buffers) {\n",
              "            buffers.push(buffer);\n",
              "            downloaded += buffer.byteLength;\n",
              "            progress.value = downloaded;\n",
              "          }\n",
              "        }\n",
              "      }\n",
              "      const blob = new Blob(buffers, {type: 'application/binary'});\n",
              "      const a = document.createElement('a');\n",
              "      a.href = window.URL.createObjectURL(blob);\n",
              "      a.download = filename;\n",
              "      div.appendChild(a);\n",
              "      a.click();\n",
              "      div.remove();\n",
              "    }\n",
              "  "
            ],
            "text/plain": [
              "<IPython.core.display.Javascript object>"
            ]
          },
          "metadata": {
            "tags": []
          }
        },
        {
          "output_type": "display_data",
          "data": {
            "application/javascript": [
              "download(\"download_5e54522e-8ae2-4b9a-b8b6-ad1159f5113e\", \"sentiment_analysis.csv\", 22337)"
            ],
            "text/plain": [
              "<IPython.core.display.Javascript object>"
            ]
          },
          "metadata": {
            "tags": []
          }
        }
      ]
    },
    {
      "cell_type": "code",
      "metadata": {
        "id": "nNOqo3YwsN6v"
      },
      "source": [
        ""
      ],
      "execution_count": null,
      "outputs": []
    }
  ]
}
{
 "cells": [
  {
   "cell_type": "markdown",
   "metadata": {
    "id": "hLcWRu-jp7gM"
   },
   "source": [
    "# MIS 583 Assignment 3: Flower Classfication"
   ]
  },
  {
   "cell_type": "markdown",
   "metadata": {
    "id": "oSwr9MgZogRZ"
   },
   "source": [
    "Before we start, please put your name and ID in following format: <br>\n",
    "NAME, ?000000000   e.g. 陳琨翔, M094020003\n",
    "\n",
    "**Your Answer:**   \n",
    "Hi I'm 戴嘉萱, M084030006"
   ]
  },
  {
   "cell_type": "markdown",
   "metadata": {
    "id": "B_MoQiztpxcK"
   },
   "source": [
    "## Flower Classification\n",
    "\n",
    "Image classification is a core and fundamental task in computer vision.\n",
    "\n",
    "In the assignment, you will implement a multi-class image classifier to recognize flowers.\n",
    "\n",
    "You will design and train a deep convolutional network from scratch to predict the class label of a flower image. This will help you gain experience with network design and get more familiar with PyTorch.\n",
    "\n",
    "**Please note that you’re not allowed to use a pre-trained model.**"
   ]
  },
  {
   "cell_type": "markdown",
   "metadata": {
    "id": "b1NQv3Ey3cVS"
   },
   "source": [
    "## Kaggle Competition\n",
    "Kaggle is an online community of data scientists and machine learning practitioners. Kaggle allows users to find and publish data sets, explore and build models in a web-based data-science environment, work with other data scientists and machine learning engineers, and enter competitions to solve data science challenges.\n",
    "\n",
    "This assignment use kaggle to calculate your grade.  \n",
    "Please use this [**LINK**](https://www.kaggle.com/t/a16786b7da97419f9ba90b495dab08aa) to join the competition."
   ]
  },
  {
   "cell_type": "markdown",
   "metadata": {
    "id": "giUId1Naqacs"
   },
   "source": [
    "##  Versions of used packages\n",
    "\n",
    "We will check PyTorch version to make sure everything work properly.\n",
    "\n",
    "We use `python 3.6.9`, `torch==1.6.0`"
   ]
  },
  {
   "cell_type": "code",
   "execution_count": null,
   "metadata": {
    "colab": {
     "base_uri": "https://localhost:8080/"
    },
    "id": "Vuw-gNvjqcYe",
    "outputId": "cea9f22e-4ba1-4af5-e48f-f2237ec35222"
   },
   "outputs": [
    {
     "name": "stdout",
     "output_type": "stream",
     "text": [
      "Python 3.6.9\n",
      "torch==1.7.0+cu101\n",
      "torchsummary==1.5.1\n",
      "torchtext==0.3.1\n",
      "torchvision==0.8.1+cu101\n"
     ]
    }
   ],
   "source": [
    "!python --version\n",
    "!pip freeze | grep torch"
   ]
  },
  {
   "cell_type": "markdown",
   "metadata": {
    "id": "_FydjP4MTWuL"
   },
   "source": [
    "## Error handling\n",
    "\n",
    "**RuntimeError: CUDA out of memory...**\n",
    "> 發生原因可能為讀取的 batch 過大或是記憶體未釋放乾淨。若縮小 batch size 後仍出現錯誤請按照以下步驟重新載入 colab。\n",
    "\n",
    "1. Click 「Runtime」\n",
    "2. Click 「Factor reset runtime」\n",
    "3. Click 「Reconnect」\n",
    "4. Reload all chunk\n",
    "\n"
   ]
  },
  {
   "cell_type": "markdown",
   "metadata": {
    "id": "OhdbdJOsrbxL"
   },
   "source": [
    "# Prepare Data"
   ]
  },
  {
   "cell_type": "markdown",
   "metadata": {
    "id": "nPoSgD83teTQ"
   },
   "source": [
    "We use [Flowers Recognition](https://www.kaggle.com/alxmamaev/flowers-recognition) dataset.\n",
    "This is collected by Alexander Mamaev.\n",
    "\n",
    "**Abstrct**  \n",
    "\n",
    "This dataset contains 4323 images of flowers.\n",
    "The data collection is based on the data flicr, google images, yandex images.\n",
    "You can use this datastet to recognize plants from the photo.\n",
    "\n",
    "The pictures are divided into five classes: \n",
    "+ daisy\n",
    "+ tulip\n",
    "+ rose\n",
    "+ sunflower\n",
    "+ dandelion\n",
    "\n",
    "For each class there are about 800 photos. Photos are not high resolution, about 320x240 pixels. Photos are not reduced to a single size, they have different proportions!"
   ]
  },
  {
   "cell_type": "markdown",
   "metadata": {
    "id": "IiMThsYeDa2O"
   },
   "source": [
    "## Get Data\n",
    "\n",
    "請先到共用雲端硬碟將檔案`flower_data.zip`，建立捷徑到自己的雲端硬碟中。\n",
    "\n",
    "> 操作步驟\n",
    "1. 點開雲端[連結](https://drive.google.com/file/d/1rTfeCpKXoQXI978QiTWC-AI1vwGvd5SU/view?usp=sharing)\n",
    "2. 點選右上角「新增雲端硬碟捷徑」\n",
    "3. 點選「我的雲端硬碟」\n",
    "4. 點選「新增捷徑」\n",
    "\n",
    "完成以上流程會在你的雲端硬碟中建立一個檔案的捷徑，接著我們在colab中取得權限即可使用。"
   ]
  },
  {
   "cell_type": "markdown",
   "metadata": {
    "id": "jBY0b6zxI0r9"
   },
   "source": [
    "執行此段後點選出現的連結，允許授權後，複製授權碼，貼在空格中後按下ENTER，即完成與雲端硬碟連結。"
   ]
  },
  {
   "cell_type": "code",
   "execution_count": 2,
   "metadata": {
    "colab": {
     "base_uri": "https://localhost:8080/"
    },
    "id": "cCXepUIVe5iJ",
    "outputId": "99149eb0-8122-4ff5-8d9d-06fda7abd55c"
   },
   "outputs": [
    {
     "name": "stdout",
     "output_type": "stream",
     "text": [
      "Mounted at /content/drive\n"
     ]
    }
   ],
   "source": [
    "from google.colab import drive\n",
    "drive.mount('/content/drive', force_remount=True)"
   ]
  },
  {
   "cell_type": "markdown",
   "metadata": {
    "id": "cqO8DiB6VRQZ"
   },
   "source": [
    "## Unzip Data\n",
    "\n",
    "解壓縮 `flower_data.zip` 後可以發現裡面有兩個資料夾和三個csv檔。\n",
    "\n",
    "+ `train` : 存有五個資料夾分別是五個種類的花，資料夾內為花的照片。\n",
    "+ `test` : 資料夾中為未分類之測試集照片。\n",
    "+ `train.csv` : 讀取 train data 的順序、路徑與圖片所屬花別。\n",
    "+ `val.csv` : 讀取 validate data 的順序、路徑與圖片所屬花別。\n",
    "+ `test.csv` : 讀取 test data 的順序、路徑。\n",
    "\n",
    "其中`train`的圖片3112張，`val`的圖片778章，`test`的圖片433張。\n",
    "\n",
    "注意: 若有另外設定存放在雲端硬碟中的路徑，請記得本處路徑也須做更動。"
   ]
  },
  {
   "cell_type": "code",
   "execution_count": 3,
   "metadata": {
    "id": "aGCZQxZSfONu"
   },
   "outputs": [],
   "source": [
    "!unzip -qq ./drive/My\\ Drive/flower_data.zip"
   ]
  },
  {
   "cell_type": "markdown",
   "metadata": {
    "id": "SYueKGdIHpho"
   },
   "source": [
    "## Loading the dataset\n"
   ]
  },
  {
   "cell_type": "markdown",
   "metadata": {
    "id": "xpG2DxEqHFD-"
   },
   "source": [
    "### Custom dataset\n",
    "\n",
    "繼承自定義資料集的框架 `torch.utils.data.Dataset`，主要實現 `__getitem__()` 和 `__len__()` 這兩個方法。\n",
    "\n",
    "常使用來做到設定資料位址、設定讀取方式、子資料集的標籤和轉換條件...等。\n",
    "\n",
    "See [torch.utils.data.Dataset](https://pytorch.org/docs/stable/data.html#torch.utils.data.Dataset) for more details"
   ]
  },
  {
   "cell_type": "code",
   "execution_count": 4,
   "metadata": {
    "id": "dwUE1E83_Iw8"
   },
   "outputs": [],
   "source": [
    "import csv\n",
    "import os\n",
    "import numpy as np\n",
    "from PIL import Image\n",
    "import torch\n",
    "\n",
    "class FlowerData(torch.utils.data.Dataset):\n",
    "    def __init__(self, csv_file, mode='train', transform=None):\n",
    "        \n",
    "        self.mode = mode # 'train', 'val' or 'test'\n",
    "        self.data_list = []\n",
    "        self.labels = []\n",
    "        self.transform = transform\n",
    "        \n",
    "        with open(csv_file, newline='') as csvfile:\n",
    "            reader = csv.DictReader(csvfile)\n",
    "            for row in reader:\n",
    "                self.data_list.append(row['file_path'])\n",
    "                if mode != 'test':\n",
    "                    self.labels.append(row['label'])\n",
    "\n",
    "    def __getitem__(self, index):\n",
    "\n",
    "        data = Image.open(self.data_list[index])\n",
    "        if self.transform is not None:\n",
    "            data = self.transform(data)\n",
    "        if self.mode == 'test':\n",
    "            return data\n",
    "        label = torch.tensor(int(self.labels[index]))\n",
    "\n",
    "        return data, label\n",
    "\n",
    "    def __len__(self):\n",
    "        return len(self.data_list)"
   ]
  },
  {
   "cell_type": "markdown",
   "metadata": {
    "id": "5tQGLuVWnA-b"
   },
   "source": [
    "### Data augmentation \n",
    "\n",
    "Data augmentation are techniques used to increase the amount of data by adding slightly modified copies of already existing data or newly created synthetic data from existing data.\n",
    "\n",
    "Pytorch use `torchvision.transforms` to do data augmentation.\n",
    "[You can see all function here.](https://pytorch.org/docs/stable/torchvision/transforms.html)\n",
    "\n",
    "**NOTICE**: There are some operations may not be necessary for predict, so we should write one for train and one for others.\n",
    "\n",
    "(**Slide.07 page.49**)"
   ]
  },
  {
   "cell_type": "code",
   "execution_count": 5,
   "metadata": {
    "id": "UIv1VyHXVNTo"
   },
   "outputs": [],
   "source": [
    "from torchvision import transforms\n",
    "# For TRAIN\n",
    "########################################################################\n",
    "#  TODO: use transforms.xxx method to do some data augmentation        #\n",
    "#  This one is for training, find the composition to get better result #\n",
    "########################################################################\n",
    "transforms_train =transforms.Compose([\n",
    "  transforms.Resize((256, 256)),\n",
    "  transforms.RandomCrop((224, 224)),\n",
    "  transforms.RandomHorizontalFlip(p=0.5),\n",
    "  transforms.RandomRotation(degrees=(-90, 90)),\n",
    "  transforms.ToTensor(),\n",
    "  transforms.Normalize(mean=[0.485, 0.456, 0.406], std=[0.229, 0.224, 0.225]),\n",
    "  ])\n",
    "########################################################################\n",
    "#                           End of your code                           #\n",
    "########################################################################\n",
    "\n",
    "# For VAL, TEST\n",
    "########################################################################\n",
    "#  TODO: use transforms.xxx method to do some data augmentation        #\n",
    "#  This one is for validate and test,                                  #\n",
    "#  NOTICE some operation we usually not use in this part               #\n",
    "########################################################################\n",
    "transforms_test =transforms.Compose([\n",
    "  transforms.Resize((256, 256)),\n",
    "  transforms.CenterCrop((224, 224)),\n",
    "  transforms.ToTensor(),\n",
    "  transforms.Normalize(mean=[0.485, 0.456, 0.406], std=[0.229, 0.224, 0.225]),\n",
    "  ])\n",
    "########################################################################\n",
    "#                           End of your code                           #\n",
    "########################################################################"
   ]
  },
  {
   "cell_type": "markdown",
   "metadata": {
    "id": "7rYptn_YJlFX"
   },
   "source": [
    "### Instantiate dataset\n",
    "\n",
    "Let's instantiate three `FlowerData` class.\n",
    "+ dataset_train: for training.\n",
    "+ dataset_val: for validation.\n",
    "+ dataset_test: for tesing."
   ]
  },
  {
   "cell_type": "code",
   "execution_count": 6,
   "metadata": {
    "id": "LKjsKyHhZZc6"
   },
   "outputs": [],
   "source": [
    "dataset_train = FlowerData('./data/train.csv', mode='train', transform=transforms_train)\n",
    "dataset_val = FlowerData('./data/val.csv', mode='val', transform=transforms_test)\n",
    "dataset_test = FlowerData('./data/test.csv', mode='test', transform=transforms_test)"
   ]
  },
  {
   "cell_type": "code",
   "execution_count": null,
   "metadata": {
    "colab": {
     "base_uri": "https://localhost:8080/"
    },
    "id": "ZAeQQEEISCJJ",
    "outputId": "a0302cfa-0beb-4980-c1fc-bd4bae864f38"
   },
   "outputs": [
    {
     "name": "stdout",
     "output_type": "stream",
     "text": [
      "The first image's shape in dataset_train : torch.Size([3, 224, 224])\n",
      "There are 3112 images in dataset_train.\n",
      "\n"
     ]
    }
   ],
   "source": [
    "print(\"The first image's shape in dataset_train :\", dataset_train.__getitem__(0)[0].size())\n",
    "print(\"There are\", dataset_train.__len__(), \"images in dataset_train.\")\n"
   ]
  },
  {
   "cell_type": "markdown",
   "metadata": {
    "id": "vORA6qkfIj1U"
   },
   "source": [
    "### `DataLoader`\n",
    "\n",
    "`torch.utils.data.DataLoader` define how to sample from `dataset` and some other function like:\n",
    "+ `shuffle` : set to `True` to have the data reshuffled at every epoch\n",
    "+ `batch_size` : how many samples per batch to load\n",
    "\n",
    "See [torch.utils.data.DataLoader](https://pytorch.org/docs/stable/data.html#torch.utils.data.DataLoader) for more details"
   ]
  },
  {
   "cell_type": "code",
   "execution_count": 7,
   "metadata": {
    "id": "RmgA5nYT3XQZ"
   },
   "outputs": [],
   "source": [
    "from torch.utils.data import DataLoader\n",
    "\n",
    "train_loader = DataLoader(dataset_train, batch_size=128, shuffle=True)\n",
    "val_loader = DataLoader(dataset_val, batch_size=128, shuffle=False)\n",
    "test_loader = DataLoader(dataset_test, batch_size=128, shuffle=False)"
   ]
  },
  {
   "cell_type": "markdown",
   "metadata": {
    "id": "U4atwzT3aPi3"
   },
   "source": [
    "Finally! We have made all data prepared.  \n",
    "Let's go develop our model."
   ]
  },
  {
   "cell_type": "markdown",
   "metadata": {
    "id": "87KYcWknS95z"
   },
   "source": [
    "# Implement CNN using PyTorch"
   ]
  },
  {
   "cell_type": "markdown",
   "metadata": {
    "id": "OH_4NKB9dsZ3"
   },
   "source": [
    "### Define a Convolutional Neural Network\n",
    "\n",
    "Try to design and train a deep convolutional network from scratch to predict the class label of a flower image. \n",
    "\n",
    "You can refer to last assignment about image_classifier, and try to go deep and use more method for better model."
   ]
  },
  {
   "cell_type": "code",
   "execution_count": 8,
   "metadata": {
    "id": "S_HxxEfdO2Ss"
   },
   "outputs": [],
   "source": [
    "import torch.nn as nn \n",
    "import torch.nn.functional as F\n",
    "\n",
    "class Your_CNN_Model(nn.Module): \n",
    "\tdef __init__(self): \n",
    "\t\tsuper().__init__()\n",
    "\t\t########################################################################\n",
    "\t\t#     TODO: use nn.xxx method to generate a CNN model part             #\n",
    "\t\t########################################################################\n",
    "\n",
    "\t\t#input=3*224*224 #3為chanel，代表rgb\n",
    "\t\tx=32\n",
    "\t\ty=64\n",
    "\t\tself.conv = nn.Sequential(\n",
    "\t\t\tnn.Conv2d(3, x, 5, padding=2),# in,out,k\n",
    "      nn.ReLU(),\n",
    "      nn.MaxPool2d(2, stride=2),\n",
    "\n",
    "      nn.Conv2d(x, y, 5, stride=1, padding=2),\n",
    "\t\t\tnn.BatchNorm2d(y),\n",
    "\t\t\tnn.ReLU(),\n",
    "\t\t\tnn.MaxPool2d(2, stride=2),\n",
    "\n",
    "\t\t\tnn.Conv2d(y,128, 5, stride=1, padding=2),\n",
    "\t\t\tnn.BatchNorm2d(128),\n",
    "\t\t\tnn.ReLU(),\n",
    "\t\t\tnn.MaxPool2d(2, stride=2),\n",
    "\n",
    "\t\t\tnn.Conv2d(128,256, 5, stride=1, padding=2),\n",
    "\t\t\tnn.BatchNorm2d(256),\n",
    "\t\t\tnn.ReLU(),\n",
    "\t\t\tnn.MaxPool2d(2, stride=2),\n",
    "\n",
    "\t\t\tnn.Conv2d(256,512, 5, stride=1, padding=2),\n",
    "\t\t\tnn.BatchNorm2d(512),\n",
    "\t\t\tnn.ReLU(),\n",
    "\t\t\tnn.MaxPool2d(2, stride=2),\n",
    "\n",
    "\t\t\tnn.ReLU(),\n",
    "\t\t\t)\n",
    "\t\tself.fc_model = nn.Sequential(\n",
    "\t\t\t\n",
    "\t\t  nn.Linear(512*7*7,500),#查看summary\n",
    "\t\t\tnn.BatchNorm1d(500),\n",
    "\t\t\tnn.ReLU(),\n",
    "\t\t\tnn.Dropout(),\n",
    "\t\t\tnn.Linear(500, 500),\n",
    "\t\t\tnn.ReLU(),\n",
    "\t\t\tnn.Dropout(),\n",
    "\t\t\tnn.Linear(500,5))#5為輸出幾類\n",
    " # You can change the variable name\n",
    "\t\t########################################################################\n",
    "\t\t#                           End of your code                           #\n",
    "\t\t########################################################################\n",
    "\n",
    "\tdef forward(self, x): \n",
    "\t\tif not isinstance(x, torch.Tensor):\n",
    "\t\t\tx = torch.Tensor(x)\n",
    "\t\t########################################################################\n",
    "\t\t#     TODO: forward your model and get output                          #\n",
    "\t\t########################################################################\n",
    "\t\t\n",
    "\t\tx = self.conv(x)\n",
    "\t\tx = x.view(x.size(0), -1)\n",
    "\t\tout = self.fc_model(x) \n",
    "\t\t########################################################################\n",
    "\t\t#                           End of your code                           #\n",
    "\t\t########################################################################\n",
    "\t\treturn out"
   ]
  },
  {
   "cell_type": "code",
   "execution_count": 9,
   "metadata": {
    "colab": {
     "base_uri": "https://localhost:8080/"
    },
    "id": "lP55C9Xjydws",
    "outputId": "7f6ed8cc-5aa8-426a-c01f-6bc52d8e7a50"
   },
   "outputs": [
    {
     "name": "stdout",
     "output_type": "stream",
     "text": [
      "Your_CNN_Model(\n",
      "  (conv): Sequential(\n",
      "    (0): Conv2d(3, 32, kernel_size=(5, 5), stride=(1, 1), padding=(2, 2))\n",
      "    (1): ReLU()\n",
      "    (2): MaxPool2d(kernel_size=2, stride=2, padding=0, dilation=1, ceil_mode=False)\n",
      "    (3): Conv2d(32, 64, kernel_size=(5, 5), stride=(1, 1), padding=(2, 2))\n",
      "    (4): BatchNorm2d(64, eps=1e-05, momentum=0.1, affine=True, track_running_stats=True)\n",
      "    (5): ReLU()\n",
      "    (6): MaxPool2d(kernel_size=2, stride=2, padding=0, dilation=1, ceil_mode=False)\n",
      "    (7): Conv2d(64, 128, kernel_size=(5, 5), stride=(1, 1), padding=(2, 2))\n",
      "    (8): BatchNorm2d(128, eps=1e-05, momentum=0.1, affine=True, track_running_stats=True)\n",
      "    (9): ReLU()\n",
      "    (10): MaxPool2d(kernel_size=2, stride=2, padding=0, dilation=1, ceil_mode=False)\n",
      "    (11): Conv2d(128, 256, kernel_size=(5, 5), stride=(1, 1), padding=(2, 2))\n",
      "    (12): BatchNorm2d(256, eps=1e-05, momentum=0.1, affine=True, track_running_stats=True)\n",
      "    (13): ReLU()\n",
      "    (14): MaxPool2d(kernel_size=2, stride=2, padding=0, dilation=1, ceil_mode=False)\n",
      "    (15): Conv2d(256, 512, kernel_size=(5, 5), stride=(1, 1), padding=(2, 2))\n",
      "    (16): BatchNorm2d(512, eps=1e-05, momentum=0.1, affine=True, track_running_stats=True)\n",
      "    (17): ReLU()\n",
      "    (18): MaxPool2d(kernel_size=2, stride=2, padding=0, dilation=1, ceil_mode=False)\n",
      "    (19): ReLU()\n",
      "  )\n",
      "  (fc_model): Sequential(\n",
      "    (0): Linear(in_features=25088, out_features=500, bias=True)\n",
      "    (1): BatchNorm1d(500, eps=1e-05, momentum=0.1, affine=True, track_running_stats=True)\n",
      "    (2): ReLU()\n",
      "    (3): Dropout(p=0.5, inplace=False)\n",
      "    (4): Linear(in_features=500, out_features=500, bias=True)\n",
      "    (5): ReLU()\n",
      "    (6): Dropout(p=0.5, inplace=False)\n",
      "    (7): Linear(in_features=500, out_features=5, bias=True)\n",
      "  )\n",
      ")\n",
      "----------------------------------------------------------------\n",
      "        Layer (type)               Output Shape         Param #\n",
      "================================================================\n",
      "            Conv2d-1         [-1, 32, 224, 224]           2,432\n",
      "              ReLU-2         [-1, 32, 224, 224]               0\n",
      "         MaxPool2d-3         [-1, 32, 112, 112]               0\n",
      "            Conv2d-4         [-1, 64, 112, 112]          51,264\n",
      "       BatchNorm2d-5         [-1, 64, 112, 112]             128\n",
      "              ReLU-6         [-1, 64, 112, 112]               0\n",
      "         MaxPool2d-7           [-1, 64, 56, 56]               0\n",
      "            Conv2d-8          [-1, 128, 56, 56]         204,928\n",
      "       BatchNorm2d-9          [-1, 128, 56, 56]             256\n",
      "             ReLU-10          [-1, 128, 56, 56]               0\n",
      "        MaxPool2d-11          [-1, 128, 28, 28]               0\n",
      "           Conv2d-12          [-1, 256, 28, 28]         819,456\n",
      "      BatchNorm2d-13          [-1, 256, 28, 28]             512\n",
      "             ReLU-14          [-1, 256, 28, 28]               0\n",
      "        MaxPool2d-15          [-1, 256, 14, 14]               0\n",
      "           Conv2d-16          [-1, 512, 14, 14]       3,277,312\n",
      "      BatchNorm2d-17          [-1, 512, 14, 14]           1,024\n",
      "             ReLU-18          [-1, 512, 14, 14]               0\n",
      "        MaxPool2d-19            [-1, 512, 7, 7]               0\n",
      "             ReLU-20            [-1, 512, 7, 7]               0\n",
      "           Linear-21                  [-1, 500]      12,544,500\n",
      "      BatchNorm1d-22                  [-1, 500]           1,000\n",
      "             ReLU-23                  [-1, 500]               0\n",
      "          Dropout-24                  [-1, 500]               0\n",
      "           Linear-25                  [-1, 500]         250,500\n",
      "             ReLU-26                  [-1, 500]               0\n",
      "          Dropout-27                  [-1, 500]               0\n",
      "           Linear-28                    [-1, 5]           2,505\n",
      "================================================================\n",
      "Total params: 17,155,817\n",
      "Trainable params: 17,155,817\n",
      "Non-trainable params: 0\n",
      "----------------------------------------------------------------\n",
      "Input size (MB): 0.57\n",
      "Forward/backward pass size (MB): 65.10\n",
      "Params size (MB): 65.44\n",
      "Estimated Total Size (MB): 131.12\n",
      "----------------------------------------------------------------\n"
     ]
    }
   ],
   "source": [
    "model = Your_CNN_Model()\n",
    "model = model.cuda()\n",
    "print(model)\n",
    "from torchsummary import summary\n",
    "summary(model.cuda(), (3, 224, 224))"
   ]
  },
  {
   "cell_type": "markdown",
   "metadata": {
    "id": "83imqLRQ0v7M"
   },
   "source": [
    "We have made our model!  \n",
    "Next, PyTorch also provide many utility function(loss, optmizer...etc).  \n",
    "You can define them in one-line."
   ]
  },
  {
   "cell_type": "markdown",
   "metadata": {
    "id": "FtOkPO6Ga0Fw"
   },
   "source": [
    "### Define loss and optimizer"
   ]
  },
  {
   "cell_type": "code",
   "execution_count": 10,
   "metadata": {
    "id": "IoePct00RIFY"
   },
   "outputs": [],
   "source": [
    "import torch.nn as nn\n",
    "import torch.optim as optim\n",
    "################################################################################\n",
    "# TODO: Define loss and optmizer functions                                     #\n",
    "# Try any loss or optimizer function and learning rate to get better result    #\n",
    "# hint: torch.nn and torch.optim                                               #\n",
    "################################################################################\n",
    "criterion =nn.CrossEntropyLoss()#多種類別\n",
    "optimizer =optim.SGD(model.parameters(),lr=0.01,momentum=0.9,nesterov=False)\n",
    "################################################################################\n",
    "#                               End of your code                               #\n",
    "################################################################################\n",
    "criterion = criterion.cuda()"
   ]
  },
  {
   "cell_type": "markdown",
   "metadata": {
    "id": "zle9KuFcbwMP"
   },
   "source": [
    "### Train the model"
   ]
  },
  {
   "cell_type": "markdown",
   "metadata": {
    "id": "bZFxE7Y9iLfl"
   },
   "source": [
    "#### Train function\n",
    "Let's define train function.  \n",
    "It will iterate input data 1 epoch and update model with optmizer.  \n",
    "Finally, calculate mean loss and total accuracy.\n",
    "\n",
    "Hint: [torch.max()](https://pytorch.org/docs/stable/generated/torch.max.html#torch-max)"
   ]
  },
  {
   "cell_type": "code",
   "execution_count": 11,
   "metadata": {
    "id": "VM93brDshO6E"
   },
   "outputs": [],
   "source": [
    "def train(input_data, model, criterion, optimizer):\n",
    "    '''\n",
    "    Argement:\n",
    "    input_data -- iterable data, typr torch.utils.data.Dataloader is prefer\n",
    "    model -- nn.Module, model contain forward to predict output\n",
    "    criterion -- loss function, used to evaluate goodness of model\n",
    "    optimizer -- optmizer function, method for weight updating\n",
    "    '''\n",
    "    model.train()\n",
    "    loss_list = []\n",
    "    total_count = 0\n",
    "    acc_count = 0\n",
    "    for i, data in enumerate(input_data, 0):\n",
    "        images, labels = data[0].cuda(), data[1].cuda()\n",
    "        \n",
    "        ########################################################################\n",
    "        # TODO: Forward, backward and optimize                                 #\n",
    "        # 1. zero the parameter gradients                                      #\n",
    "        # 2. process input through the network                                 #\n",
    "        # 3. compute the loss                                                  #\n",
    "        # 4. propagate gradients back into the network’s parameters            #\n",
    "        # 5. Update the weights of the network                                 #\n",
    "        ########################################################################\n",
    "        optimizer.zero_grad()\n",
    "        out=model(images)\n",
    "        loss =criterion(out,labels)\n",
    "        loss.backward()\n",
    "        optimizer.step()\n",
    "\n",
    "        ########################################################################\n",
    "        #                           End of your code                           #\n",
    "        ########################################################################\n",
    "\n",
    "\n",
    "        ########################################################################\n",
    "        # TODO: Get the counts of correctly classified images                  #\n",
    "        # 1. get the model predicted result                                    #\n",
    "        # 2. sum the number of this batch predicted images                     #\n",
    "        # 3. sum the number of correctly classified                            #\n",
    "        # 4. save this batch's loss into loss_list                             #\n",
    "        # dimension of outputs: [batch_size, number of classes]                #\n",
    "        # Hint 1: use outputs.data to get no auto_grad                         #\n",
    "        # Hint 2: use torch.max()                                              #\n",
    "        ########################################################################\n",
    "        _, predicted =torch.max(out.data,1)#分類會自動套運softmax\n",
    "        total_count +=len(labels)\n",
    "        acc_count += (predicted==labels).sum().item()\n",
    "        loss_list.append(loss.item())\n",
    "        ########################################################################\n",
    "        #                           End of your code                           #\n",
    "        ########################################################################\n",
    "\n",
    "    # Compute this epoch accuracy and loss\n",
    "    acc = acc_count / total_count\n",
    "    loss = sum(loss_list) / len(loss_list)\n",
    "    return acc, loss"
   ]
  },
  {
   "cell_type": "markdown",
   "metadata": {
    "id": "KmDy1GTq_H2a"
   },
   "source": [
    "#### Validate function\n",
    "Next part is validate function.  \n",
    "It works as training function without optmizer and weight-updating part."
   ]
  },
  {
   "cell_type": "code",
   "execution_count": 12,
   "metadata": {
    "id": "USzbBgGEoTRu"
   },
   "outputs": [],
   "source": [
    "#train(train_loader, model, criterion, optimizer)\n",
    "\n",
    "def val(input_data, model, criterion):\n",
    "    model.eval()\n",
    "    \n",
    "    loss_list = []\n",
    "    total_count = 0\n",
    "    acc_count = 0\n",
    "    with torch.no_grad():\n",
    "        for data in input_data:\n",
    "            images, labels = data[0].cuda(), data[1].cuda()\n",
    "\n",
    "            ####################################################################\n",
    "            # TODO: Get the predicted result and loss                          #\n",
    "            # 1. process input through the network                             #\n",
    "            # 2. compute the loss                                              #\n",
    "            # 3. get the model predicted result                                #\n",
    "            # 4. get the counts of correctly classified images                 #\n",
    "            # 5. save this batch's loss into loss_list                         #\n",
    "            ####################################################################\n",
    "            \n",
    "            out=model(images)\n",
    "            loss =criterion(out,labels)\n",
    "            _, predicted =torch.max(out.data,1)\n",
    "            total_count += len(labels)\n",
    "            acc_count += (predicted==labels).sum().item()\n",
    "            loss_list.append(loss.item())\n",
    "\n",
    "            ####################################################################\n",
    "            #                         End of your code                         #\n",
    "            ####################################################################\n",
    "\n",
    "    acc = acc_count / total_count\n",
    "    loss = sum(loss_list) / len(loss_list)\n",
    "    return acc, loss"
   ]
  },
  {
   "cell_type": "markdown",
   "metadata": {
    "id": "LmKh-NvMOPOt"
   },
   "source": [
    "## **Early stopping**"
   ]
  },
  {
   "cell_type": "code",
   "execution_count": 14,
   "metadata": {
    "id": "rhJw9J3m2D8i"
   },
   "outputs": [],
   "source": [
    "class EarlyStopping:\n",
    "    \"\"\"Early stops the training if validation loss doesn't improve after a given patience.\"\"\"\n",
    "    def __init__(self, patience=7, verbose=False, delta=0, path='checkpoint.pt', trace_func=print):\n",
    "        \"\"\"\n",
    "        Args:\n",
    "            patience (int): How long to wait after last time validation loss improved.\n",
    "                            Default: 7\n",
    "            verbose (bool): If True, prints a message for each validation loss improvement. \n",
    "                            Default: False\n",
    "            delta (float): Minimum change in the monitored quantity to qualify as an improvement.\n",
    "                            Default: 0\n",
    "            path (str): Path for the checkpoint to be saved to.\n",
    "                            Default: 'checkpoint.pt'\n",
    "            trace_func (function): trace print function.\n",
    "                            Default: print            \n",
    "        \"\"\"\n",
    "        self.patience = patience\n",
    "        self.verbose = verbose\n",
    "        self.counter = 0\n",
    "        self.best_score = None\n",
    "        self.early_stop = False\n",
    "        self.val_loss_min = np.Inf\n",
    "        self.delta = delta\n",
    "        self.path = path\n",
    "        self.trace_func = trace_func\n",
    "    def __call__(self, val_loss, model):\n",
    "\n",
    "        score = -val_loss\n",
    "\n",
    "        if self.best_score is None:\n",
    "            self.best_score = score\n",
    "            self.save_checkpoint(val_loss, model)\n",
    "        elif score < self.best_score + self.delta:\n",
    "            self.counter += 1\n",
    "            self.trace_func(f'EarlyStopping counter: {self.counter} out of {self.patience}')\n",
    "            if self.counter >= self.patience:\n",
    "                self.early_stop = True\n",
    "        else:\n",
    "            self.best_score = score\n",
    "            self.save_checkpoint(val_loss, model)\n",
    "            self.counter = 0\n",
    "\n",
    "    def save_checkpoint(self, val_loss, model):\n",
    "        '''Saves model when validation loss decrease.'''\n",
    "        if self.verbose:\n",
    "            self.trace_func(f'Validation loss decreased ({self.val_loss_min:.6f} --> {val_loss:.6f}).  Saving model ...')\n",
    "        torch.save(model.state_dict(), self.path)\n",
    "        self.val_loss_min = val_loss\n"
   ]
  },
  {
   "cell_type": "markdown",
   "metadata": {
    "id": "knXu74jCiuxP"
   },
   "source": [
    "#### Training in a loop\n",
    "Call train and test function in a loop.  \n",
    "Take a break and wait."
   ]
  },
  {
   "cell_type": "code",
   "execution_count": 15,
   "metadata": {
    "colab": {
     "base_uri": "https://localhost:8080/"
    },
    "id": "rcVulKkFJRtI",
    "outputId": "453bba84-4ad9-4c98-97cd-06a246ebc3d2"
   },
   "outputs": [
    {
     "name": "stdout",
     "output_type": "stream",
     "text": [
      "Validation loss decreased (inf --> 1.343504).  Saving model ...\n",
      "==================== Epoch 2 ====================\n",
      "Train Acc: 0.570373 Train Loss: 1.058445\n",
      "Val Acc: 0.551414   Val Loss: 1.276456\n",
      "Validation loss decreased (1.343504 --> 1.276456).  Saving model ...\n",
      "Validation loss decreased (1.276456 --> 1.132669).  Saving model ...\n",
      "==================== Epoch 4 ====================\n",
      "Train Acc: 0.645244 Train Loss: 0.923558\n",
      "Val Acc: 0.604113   Val Loss: 1.112213\n",
      "Validation loss decreased (1.132669 --> 1.112213).  Saving model ...\n",
      "EarlyStopping counter: 1 out of 20\n",
      "==================== Epoch 6 ====================\n",
      "Train Acc: 0.673522 Train Loss: 0.854375\n",
      "Val Acc: 0.652956   Val Loss: 0.976341\n",
      "Validation loss decreased (1.112213 --> 0.976341).  Saving model ...\n",
      "EarlyStopping counter: 1 out of 20\n",
      "==================== Epoch 8 ====================\n",
      "Train Acc: 0.681877 Train Loss: 0.804412\n",
      "Val Acc: 0.664524   Val Loss: 0.981250\n",
      "EarlyStopping counter: 2 out of 20\n",
      "Validation loss decreased (0.976341 --> 0.899052).  Saving model ...\n",
      "==================== Epoch 10 ====================\n",
      "Train Acc: 0.692159 Train Loss: 0.781264\n",
      "Val Acc: 0.695373   Val Loss: 0.879455\n",
      "Validation loss decreased (0.899052 --> 0.879455).  Saving model ...\n",
      "EarlyStopping counter: 1 out of 20\n",
      "==================== Epoch 12 ====================\n",
      "Train Acc: 0.710476 Train Loss: 0.752118\n",
      "Val Acc: 0.659383   Val Loss: 0.965764\n",
      "EarlyStopping counter: 2 out of 20\n",
      "EarlyStopping counter: 3 out of 20\n",
      "==================== Epoch 14 ====================\n",
      "Train Acc: 0.740039 Train Loss: 0.695528\n",
      "Val Acc: 0.682519   Val Loss: 0.966783\n",
      "EarlyStopping counter: 4 out of 20\n",
      "Validation loss decreased (0.879455 --> 0.807408).  Saving model ...\n",
      "==================== Epoch 16 ====================\n",
      "Train Acc: 0.729756 Train Loss: 0.698092\n",
      "Val Acc: 0.669666   Val Loss: 0.917549\n",
      "EarlyStopping counter: 1 out of 20\n",
      "EarlyStopping counter: 2 out of 20\n",
      "==================== Epoch 18 ====================\n",
      "Train Acc: 0.736825 Train Loss: 0.686913\n",
      "Val Acc: 0.699229   Val Loss: 0.911685\n",
      "EarlyStopping counter: 3 out of 20\n",
      "EarlyStopping counter: 4 out of 20\n",
      "==================== Epoch 20 ====================\n",
      "Train Acc: 0.742931 Train Loss: 0.647697\n",
      "Val Acc: 0.735219   Val Loss: 0.784418\n",
      "Validation loss decreased (0.807408 --> 0.784418).  Saving model ...\n",
      "EarlyStopping counter: 1 out of 20\n",
      "==================== Epoch 22 ====================\n",
      "Train Acc: 0.744537 Train Loss: 0.636146\n",
      "Val Acc: 0.719794   Val Loss: 0.800188\n",
      "EarlyStopping counter: 2 out of 20\n",
      "EarlyStopping counter: 3 out of 20\n",
      "==================== Epoch 24 ====================\n",
      "Train Acc: 0.764460 Train Loss: 0.610623\n",
      "Val Acc: 0.697943   Val Loss: 0.926840\n",
      "EarlyStopping counter: 4 out of 20\n",
      "EarlyStopping counter: 5 out of 20\n",
      "==================== Epoch 26 ====================\n",
      "Train Acc: 0.776992 Train Loss: 0.586977\n",
      "Val Acc: 0.685090   Val Loss: 0.844001\n",
      "EarlyStopping counter: 6 out of 20\n",
      "Validation loss decreased (0.784418 --> 0.758259).  Saving model ...\n",
      "==================== Epoch 28 ====================\n",
      "Train Acc: 0.793059 Train Loss: 0.532853\n",
      "Val Acc: 0.709512   Val Loss: 0.899729\n",
      "EarlyStopping counter: 1 out of 20\n",
      "EarlyStopping counter: 2 out of 20\n",
      "==================== Epoch 30 ====================\n",
      "Train Acc: 0.802057 Train Loss: 0.539373\n",
      "Val Acc: 0.705656   Val Loss: 0.810867\n",
      "EarlyStopping counter: 3 out of 20\n",
      "Validation loss decreased (0.758259 --> 0.738697).  Saving model ...\n",
      "==================== Epoch 32 ====================\n",
      "Train Acc: 0.792095 Train Loss: 0.533523\n",
      "Val Acc: 0.733933   Val Loss: 0.795744\n",
      "EarlyStopping counter: 1 out of 20\n",
      "EarlyStopping counter: 2 out of 20\n",
      "==================== Epoch 34 ====================\n",
      "Train Acc: 0.800129 Train Loss: 0.526778\n",
      "Val Acc: 0.710797   Val Loss: 0.930328\n",
      "EarlyStopping counter: 3 out of 20\n",
      "EarlyStopping counter: 4 out of 20\n",
      "==================== Epoch 36 ====================\n",
      "Train Acc: 0.820694 Train Loss: 0.483749\n",
      "Val Acc: 0.700514   Val Loss: 0.946996\n",
      "EarlyStopping counter: 5 out of 20\n",
      "EarlyStopping counter: 6 out of 20\n",
      "==================== Epoch 38 ====================\n",
      "Train Acc: 0.820373 Train Loss: 0.474169\n",
      "Val Acc: 0.721080   Val Loss: 0.868506\n",
      "EarlyStopping counter: 7 out of 20\n",
      "EarlyStopping counter: 8 out of 20\n",
      "==================== Epoch 40 ====================\n",
      "Train Acc: 0.819087 Train Loss: 0.481650\n",
      "Val Acc: 0.736504   Val Loss: 0.828232\n",
      "EarlyStopping counter: 9 out of 20\n",
      "Validation loss decreased (0.738697 --> 0.736422).  Saving model ...\n",
      "==================== Epoch 42 ====================\n",
      "Train Acc: 0.822943 Train Loss: 0.458097\n",
      "Val Acc: 0.708226   Val Loss: 0.983562\n",
      "EarlyStopping counter: 1 out of 20\n",
      "EarlyStopping counter: 2 out of 20\n",
      "==================== Epoch 44 ====================\n",
      "Train Acc: 0.840938 Train Loss: 0.439511\n",
      "Val Acc: 0.748072   Val Loss: 0.879873\n",
      "EarlyStopping counter: 3 out of 20\n",
      "EarlyStopping counter: 4 out of 20\n",
      "==================== Epoch 46 ====================\n",
      "Train Acc: 0.838368 Train Loss: 0.425489\n",
      "Val Acc: 0.748072   Val Loss: 0.838376\n",
      "EarlyStopping counter: 5 out of 20\n",
      "EarlyStopping counter: 6 out of 20\n",
      "==================== Epoch 48 ====================\n",
      "Train Acc: 0.835476 Train Loss: 0.434744\n",
      "Val Acc: 0.727506   Val Loss: 0.844284\n",
      "EarlyStopping counter: 7 out of 20\n",
      "EarlyStopping counter: 8 out of 20\n",
      "==================== Epoch 50 ====================\n",
      "Train Acc: 0.845437 Train Loss: 0.406175\n",
      "Val Acc: 0.742931   Val Loss: 0.848625\n",
      "EarlyStopping counter: 9 out of 20\n",
      "EarlyStopping counter: 10 out of 20\n",
      "==================== Epoch 52 ====================\n",
      "Train Acc: 0.840938 Train Loss: 0.409636\n",
      "Val Acc: 0.749357   Val Loss: 0.800179\n",
      "EarlyStopping counter: 11 out of 20\n",
      "EarlyStopping counter: 12 out of 20\n",
      "==================== Epoch 54 ====================\n",
      "Train Acc: 0.857969 Train Loss: 0.371087\n",
      "Val Acc: 0.759640   Val Loss: 0.903236\n",
      "EarlyStopping counter: 13 out of 20\n",
      "EarlyStopping counter: 14 out of 20\n",
      "==================== Epoch 56 ====================\n",
      "Train Acc: 0.864717 Train Loss: 0.368503\n",
      "Val Acc: 0.773779   Val Loss: 0.856702\n",
      "EarlyStopping counter: 15 out of 20\n",
      "EarlyStopping counter: 16 out of 20\n",
      "==================== Epoch 58 ====================\n",
      "Train Acc: 0.846080 Train Loss: 0.382606\n",
      "Val Acc: 0.776350   Val Loss: 0.774519\n",
      "EarlyStopping counter: 17 out of 20\n",
      "EarlyStopping counter: 18 out of 20\n",
      "==================== Epoch 60 ====================\n",
      "Train Acc: 0.857969 Train Loss: 0.351721\n",
      "Val Acc: 0.778920   Val Loss: 0.752312\n",
      "EarlyStopping counter: 19 out of 20\n",
      "EarlyStopping counter: 20 out of 20\n",
      "Early stopping\n"
     ]
    },
    {
     "data": {
      "text/plain": [
       "<All keys matched successfully>"
      ]
     },
     "execution_count": 15,
     "metadata": {
      "tags": []
     },
     "output_type": "execute_result"
    }
   ],
   "source": [
    "################################################################################\n",
    "# You can adjust those hyper parameters to loop for max_epochs times           #\n",
    "################################################################################\n",
    "max_epochs =200\n",
    "log_interval = 2 # print acc and loss in per log_interval time\n",
    "################################################################################\n",
    "#                               End of your code                               #\n",
    "################################################################################\n",
    "train_acc_list = []\n",
    "train_loss_list = []\n",
    "val_acc_list = []\n",
    "val_loss_list = []\n",
    "early_stopping = EarlyStopping(patience=20, verbose=True)\n",
    "\n",
    "for epoch in range(1, max_epochs + 1):\n",
    "\n",
    "    train_acc, train_loss = train(train_loader, model, criterion, optimizer)\n",
    "    val_acc, val_loss = val(val_loader, model, criterion)\n",
    "\n",
    "    train_acc_list.append(train_acc)\n",
    "    train_loss_list.append(train_loss)\n",
    "    val_acc_list.append(val_acc)\n",
    "    val_loss_list.append(val_loss)\n",
    "    if epoch % log_interval == 0:\n",
    "        print('=' * 20, 'Epoch', epoch, '=' * 20)\n",
    "        print('Train Acc: {:.6f} Train Loss: {:.6f}'.format(train_acc, train_loss))\n",
    "        print('Val Acc: {:.6f}   Val Loss: {:.6f}'.format(val_acc, val_loss))\n",
    "    \n",
    "    early_stopping(val_loss, model)\n",
    "        \n",
    "    if early_stopping.early_stop:\n",
    "        print(\"Early stopping\")\n",
    "        break\n",
    "        \n",
    "# load the last checkpoint with the best model\n",
    "model.load_state_dict(torch.load('checkpoint.pt'))\n"
   ]
  },
  {
   "cell_type": "markdown",
   "metadata": {
    "id": "W5pW9zcKAN-2"
   },
   "source": [
    "#### Visualize accuracy and loss"
   ]
  },
  {
   "cell_type": "code",
   "execution_count": 16,
   "metadata": {
    "colab": {
     "base_uri": "https://localhost:8080/",
     "height": 545
    },
    "id": "4ifzgfp7iq2m",
    "outputId": "275b85b9-6d89-4727-9f58-042812b231dc"
   },
   "outputs": [
    {
     "data": {
      "image/png": "[encoded data removed]",
      "text/plain": [
       "<Figure size 864x288 with 1 Axes>"
      ]
     },
     "metadata": {
      "needs_background": "light",
      "tags": []
     },
     "output_type": "display_data"
    },
    {
     "data": {
      "image/png": "[encoded data removed]",
      "text/plain": [
       "<Figure size 864x288 with 1 Axes>"
      ]
     },
     "metadata": {
      "needs_background": "light",
      "tags": []
     },
     "output_type": "display_data"
    }
   ],
   "source": [
    "import matplotlib.pyplot as plt\n",
    "\n",
    "plt.figure(figsize=(12, 4))\n",
    "plt.plot(range(len(train_loss_list)), train_loss_list)\n",
    "plt.plot(range(len(val_loss_list)), val_loss_list, c='r')\n",
    "plt.legend(['train', 'val'])\n",
    "plt.title('Loss')\n",
    "plt.show()\n",
    "plt.figure(figsize=(12, 4))\n",
    "plt.plot(range(len(train_acc_list)), train_acc_list)\n",
    "plt.plot(range(len(val_acc_list)), val_acc_list, c='r')\n",
    "plt.legend(['train', 'val'])\n",
    "plt.title('Acc')\n",
    "plt.show()\n",
    "\n"
   ]
  },
  {
   "cell_type": "markdown",
   "metadata": {
    "id": "zMYSgO5viYOk"
   },
   "source": [
    "### Predict Result\n",
    "\n",
    "預測`test`並將結果上傳至Kaggle。[**連結**](https://www.kaggle.com/t/a16786b7da97419f9ba90b495dab08aa)\n",
    "\n",
    "執行完畢此區的程式碼後，會將`test`預測完的結果存下來。\n",
    "\n",
    "上傳流程\n",
    "1. 點選左側選單最下方的資料夾圖示\n",
    "2. 右鍵「result.csv」\n",
    "3. 點選「Download」\n",
    "4. 至連結網頁點選「Submit Predictions」\n",
    "5. 將剛剛下載的檔案上傳\n",
    "6. 系統會計算並公布其中70%資料的正確率"
   ]
  },
  {
   "cell_type": "code",
   "execution_count": 17,
   "metadata": {
    "id": "SiyK25P6KXrn"
   },
   "outputs": [],
   "source": [
    "def predict(input_data, model):\n",
    "    model.eval()\n",
    "    output_list = []\n",
    "    with torch.no_grad():\n",
    "        for data in input_data:\n",
    "            images = data.cuda()\n",
    "            outputs = model(images)\n",
    "            _, predicted = torch.max(outputs.data, 1)\n",
    "            output_list.extend(predicted.to('cpu').numpy().tolist())\n",
    "    return output_list"
   ]
  },
  {
   "cell_type": "code",
   "execution_count": 18,
   "metadata": {
    "id": "0I0LN7HwpnsX"
   },
   "outputs": [],
   "source": [
    "idx = 0\n",
    "output_csv = predict(test_loader, model)\n",
    "with open('result.csv', 'w', newline='') as csvFile:\n",
    "    writer = csv.DictWriter(csvFile, fieldnames=['Id', 'Category'])\n",
    "    writer.writeheader()\n",
    "    for result in output_csv:\n",
    "        idx+=1\n",
    "        writer.writerow({'Id':idx, 'Category':result})"
   ]
  },
  {
   "cell_type": "code",
   "execution_count": 2,
   "metadata": {},
   "outputs": [
    {
     "data": {
      "text/plain": [
       "[1, 3, 4]"
      ]
     },
     "execution_count": 2,
     "metadata": {},
     "output_type": "execute_result"
    }
   ],
   "source": [
    "[1,3,4]\n"
   ]
  },
  {
   "cell_type": "code",
   "execution_count": 8,
   "metadata": {},
   "outputs": [],
   "source": [
    "# import csv\n",
    "# idx=0\n",
    "# with open( r'C:\\Users\\戴嘉萱\\Documents\\深度學習作業\\作業4-衣服類別辨識\\result.csv', 'w', newline='') as csvFile:\n",
    "#     writer = csv.DictWriter(csvFile, fieldnames=['Id', 'Category'])\n",
    "#     writer.writeheader()\n",
    "#     for result in [1,3,4]:\n",
    "#         idx+=1\n",
    "#         writer.writerow({'Id':idx, 'Category':result})"
   ]
  },
  {
   "cell_type": "markdown",
   "metadata": {
    "id": "4XTB6EF6mH2Q"
   },
   "source": [
    "# Keep trying and write report\n",
    "\n",
    "持續調整模型、訓練方法、損失函數、優化器等，來訓練出更好的模型，並記錄使用不同參數得出的效果，以利後續 Report 的撰寫。\n",
    "\n",
    "大家加油！"
   ]
  }
 ],
 "metadata": {
  "accelerator": "GPU",
  "colab": {
   "collapsed_sections": [],
   "name": "「Assignment_3_flower_classification.ipynb」的副本",
   "provenance": []
  },
  "kernelspec": {
   "display_name": "Python 3",
   "language": "python",
   "name": "python3"
  },
  "language_info": {
   "codemirror_mode": {
    "name": "ipython",
    "version": 3
   },
   "file_extension": ".py",
   "mimetype": "text/x-python",
   "name": "python",
   "nbconvert_exporter": "python",
   "pygments_lexer": "ipython3",
   "version": "3.7.4"
  }
 },
 "nbformat": 4,
 "nbformat_minor": 1
}
